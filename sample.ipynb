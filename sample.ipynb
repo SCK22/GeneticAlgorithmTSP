{
 "cells": [
  {
   "cell_type": "markdown",
   "metadata": {
    "toc": true
   },
   "source": [
    "<h1>Table of Contents<span class=\"tocSkip\"></span></h1>\n",
    "<div class=\"toc\"><ul class=\"toc-item\"><li><span><a href=\"#Load-distances-data\" data-toc-modified-id=\"Load-distances-data-1\"><span class=\"toc-item-num\">1&nbsp;&nbsp;</span>Load distances data</a></span></li><li><span><a href=\"#Create-a-GeneticAlgorithmTSP-object\" data-toc-modified-id=\"Create-a-GeneticAlgorithmTSP-object-2\"><span class=\"toc-item-num\">2&nbsp;&nbsp;</span>Create a GeneticAlgorithmTSP object</a></span><ul class=\"toc-item\"><li><span><a href=\"#Run-the-GA\" data-toc-modified-id=\"Run-the-GA-2.1\"><span class=\"toc-item-num\">2.1&nbsp;&nbsp;</span>Run the GA</a></span></li></ul></li><li><span><a href=\"#Generate-a-plot-for-the-best-solution\" data-toc-modified-id=\"Generate-a-plot-for-the-best-solution-3\"><span class=\"toc-item-num\">3&nbsp;&nbsp;</span>Generate a plot for the best solution</a></span></li></ul></div>"
   ]
  },
  {
   "cell_type": "code",
   "execution_count": 1,
   "metadata": {},
   "outputs": [
    {
     "name": "stderr",
     "output_type": "stream",
     "text": [
      "2021-04-20 20:50:18,402\tINFO services.py:1174 -- View the Ray dashboard at http://127.0.0.1:8265\n"
     ]
    }
   ],
   "source": [
    "import os\n",
    "import folium\n",
    "from branca.element import Figure\n",
    "import pandas as pd\n",
    "import GeneticAlgoLibrary"
   ]
  },
  {
   "cell_type": "markdown",
   "metadata": {},
   "source": [
    "## Load distances data"
   ]
  },
  {
   "cell_type": "code",
   "execution_count": 2,
   "metadata": {},
   "outputs": [
    {
     "data": {
      "text/html": [
       "<div>\n",
       "<style scoped>\n",
       "    .dataframe tbody tr th:only-of-type {\n",
       "        vertical-align: middle;\n",
       "    }\n",
       "\n",
       "    .dataframe tbody tr th {\n",
       "        vertical-align: top;\n",
       "    }\n",
       "\n",
       "    .dataframe thead th {\n",
       "        text-align: right;\n",
       "    }\n",
       "</style>\n",
       "<table border=\"1\" class=\"dataframe\">\n",
       "  <thead>\n",
       "    <tr style=\"text-align: right;\">\n",
       "      <th></th>\n",
       "      <th>Bangalore</th>\n",
       "      <th>Jaipur</th>\n",
       "      <th>Varanasi</th>\n",
       "      <th>Udaipur</th>\n",
       "      <th>Delhi</th>\n",
       "      <th>Chennai</th>\n",
       "      <th>Mysore</th>\n",
       "      <th>Agra</th>\n",
       "      <th>Kolkata</th>\n",
       "      <th>Mumbai</th>\n",
       "      <th>Hyderabad</th>\n",
       "    </tr>\n",
       "  </thead>\n",
       "  <tbody>\n",
       "    <tr>\n",
       "      <th>Bangalore</th>\n",
       "      <td>0</td>\n",
       "      <td>2026</td>\n",
       "      <td>1825</td>\n",
       "      <td>1724</td>\n",
       "      <td>2166</td>\n",
       "      <td>346</td>\n",
       "      <td>149</td>\n",
       "      <td>1923</td>\n",
       "      <td>1862</td>\n",
       "      <td>980</td>\n",
       "      <td>569</td>\n",
       "    </tr>\n",
       "    <tr>\n",
       "      <th>Jaipur</th>\n",
       "      <td>2026</td>\n",
       "      <td>0</td>\n",
       "      <td>849</td>\n",
       "      <td>393</td>\n",
       "      <td>287</td>\n",
       "      <td>2108</td>\n",
       "      <td>2121</td>\n",
       "      <td>240</td>\n",
       "      <td>1520</td>\n",
       "      <td>1146</td>\n",
       "      <td>1483</td>\n",
       "    </tr>\n",
       "    <tr>\n",
       "      <th>Varanasi</th>\n",
       "      <td>1825</td>\n",
       "      <td>849</td>\n",
       "      <td>0</td>\n",
       "      <td>1154</td>\n",
       "      <td>834</td>\n",
       "      <td>1862</td>\n",
       "      <td>1976</td>\n",
       "      <td>614</td>\n",
       "      <td>683</td>\n",
       "      <td>1524</td>\n",
       "      <td>1237</td>\n",
       "    </tr>\n",
       "    <tr>\n",
       "      <th>Udaipur</th>\n",
       "      <td>1724</td>\n",
       "      <td>393</td>\n",
       "      <td>1154</td>\n",
       "      <td>0</td>\n",
       "      <td>661</td>\n",
       "      <td>2077</td>\n",
       "      <td>1809</td>\n",
       "      <td>634</td>\n",
       "      <td>1825</td>\n",
       "      <td>753</td>\n",
       "      <td>1349</td>\n",
       "    </tr>\n",
       "    <tr>\n",
       "      <th>Delhi</th>\n",
       "      <td>2166</td>\n",
       "      <td>287</td>\n",
       "      <td>834</td>\n",
       "      <td>661</td>\n",
       "      <td>0</td>\n",
       "      <td>2203</td>\n",
       "      <td>2317</td>\n",
       "      <td>233</td>\n",
       "      <td>1498</td>\n",
       "      <td>1415</td>\n",
       "      <td>1578</td>\n",
       "    </tr>\n",
       "    <tr>\n",
       "      <th>Chennai</th>\n",
       "      <td>346</td>\n",
       "      <td>2108</td>\n",
       "      <td>1862</td>\n",
       "      <td>2077</td>\n",
       "      <td>2203</td>\n",
       "      <td>0</td>\n",
       "      <td>482</td>\n",
       "      <td>1957</td>\n",
       "      <td>1669</td>\n",
       "      <td>1345</td>\n",
       "      <td>627</td>\n",
       "    </tr>\n",
       "    <tr>\n",
       "      <th>Mysore</th>\n",
       "      <td>149</td>\n",
       "      <td>2121</td>\n",
       "      <td>1976</td>\n",
       "      <td>1809</td>\n",
       "      <td>2317</td>\n",
       "      <td>482</td>\n",
       "      <td>0</td>\n",
       "      <td>2072</td>\n",
       "      <td>2012</td>\n",
       "      <td>1064</td>\n",
       "      <td>718</td>\n",
       "    </tr>\n",
       "    <tr>\n",
       "      <th>Agra</th>\n",
       "      <td>1923</td>\n",
       "      <td>240</td>\n",
       "      <td>614</td>\n",
       "      <td>634</td>\n",
       "      <td>233</td>\n",
       "      <td>1957</td>\n",
       "      <td>2072</td>\n",
       "      <td>0</td>\n",
       "      <td>1280</td>\n",
       "      <td>1323</td>\n",
       "      <td>1334</td>\n",
       "    </tr>\n",
       "    <tr>\n",
       "      <th>Kolkata</th>\n",
       "      <td>1862</td>\n",
       "      <td>1520</td>\n",
       "      <td>683</td>\n",
       "      <td>1825</td>\n",
       "      <td>1498</td>\n",
       "      <td>1669</td>\n",
       "      <td>2012</td>\n",
       "      <td>1280</td>\n",
       "      <td>0</td>\n",
       "      <td>2053</td>\n",
       "      <td>1493</td>\n",
       "    </tr>\n",
       "    <tr>\n",
       "      <th>Mumbai</th>\n",
       "      <td>980</td>\n",
       "      <td>1146</td>\n",
       "      <td>1524</td>\n",
       "      <td>753</td>\n",
       "      <td>1415</td>\n",
       "      <td>1345</td>\n",
       "      <td>1064</td>\n",
       "      <td>1323</td>\n",
       "      <td>2053</td>\n",
       "      <td>0</td>\n",
       "      <td>711</td>\n",
       "    </tr>\n",
       "    <tr>\n",
       "      <th>Hyderabad</th>\n",
       "      <td>569</td>\n",
       "      <td>1483</td>\n",
       "      <td>1237</td>\n",
       "      <td>1349</td>\n",
       "      <td>1578</td>\n",
       "      <td>627</td>\n",
       "      <td>718</td>\n",
       "      <td>1334</td>\n",
       "      <td>1493</td>\n",
       "      <td>711</td>\n",
       "      <td>0</td>\n",
       "    </tr>\n",
       "  </tbody>\n",
       "</table>\n",
       "</div>"
      ],
      "text/plain": [
       "           Bangalore  Jaipur  Varanasi  Udaipur  Delhi  Chennai  Mysore  Agra  \\\n",
       "Bangalore          0    2026      1825     1724   2166      346     149  1923   \n",
       "Jaipur          2026       0       849      393    287     2108    2121   240   \n",
       "Varanasi        1825     849         0     1154    834     1862    1976   614   \n",
       "Udaipur         1724     393      1154        0    661     2077    1809   634   \n",
       "Delhi           2166     287       834      661      0     2203    2317   233   \n",
       "Chennai          346    2108      1862     2077   2203        0     482  1957   \n",
       "Mysore           149    2121      1976     1809   2317      482       0  2072   \n",
       "Agra            1923     240       614      634    233     1957    2072     0   \n",
       "Kolkata         1862    1520       683     1825   1498     1669    2012  1280   \n",
       "Mumbai           980    1146      1524      753   1415     1345    1064  1323   \n",
       "Hyderabad        569    1483      1237     1349   1578      627     718  1334   \n",
       "\n",
       "           Kolkata  Mumbai  Hyderabad  \n",
       "Bangalore     1862     980        569  \n",
       "Jaipur        1520    1146       1483  \n",
       "Varanasi       683    1524       1237  \n",
       "Udaipur       1825     753       1349  \n",
       "Delhi         1498    1415       1578  \n",
       "Chennai       1669    1345        627  \n",
       "Mysore        2012    1064        718  \n",
       "Agra          1280    1323       1334  \n",
       "Kolkata          0    2053       1493  \n",
       "Mumbai        2053       0        711  \n",
       "Hyderabad     1493     711          0  "
      ]
     },
     "execution_count": 2,
     "metadata": {},
     "output_type": "execute_result"
    }
   ],
   "source": [
    "data = pd.read_csv(\"./data/cities_and_distances.csv\")\n",
    "data.reset_index(inplace=True)\n",
    "data1 = data.iloc[:,2:]\n",
    "data1.index = data1.columns.values\n",
    "data1"
   ]
  },
  {
   "cell_type": "markdown",
   "metadata": {},
   "source": [
    "## Create a GeneticAlgorithmTSP object"
   ]
  },
  {
   "cell_type": "code",
   "execution_count": 3,
   "metadata": {},
   "outputs": [],
   "source": [
    "ga_obj =  GeneticAlgoLibrary.GeneticAlgorithmTSP(number_of_cities=11,\n",
    "                             initial_pop_size=10,\n",
    "                             nelite=5,\n",
    "                             percentage_to_crossover=30,\n",
    "                             percentage_to_mutate=20,\n",
    "                             dist_mat=data1)"
   ]
  },
  {
   "cell_type": "code",
   "execution_count": 4,
   "metadata": {},
   "outputs": [
    {
     "name": "stderr",
     "output_type": "stream",
     "text": [
      "(pid=14220) 2021-04-20 20:50:34,545\tINFO worker.py:665 -- Calling ray.init() again after it has already been called.\n",
      "(pid=11928) 2021-04-20 20:50:34,680\tINFO worker.py:665 -- Calling ray.init() again after it has already been called.\n",
      "(pid=1488) 2021-04-20 20:50:34,728\tINFO worker.py:665 -- Calling ray.init() again after it has already been called.\n",
      "(pid=976) 2021-04-20 20:50:34,876\tINFO worker.py:665 -- Calling ray.init() again after it has already been called.\n"
     ]
    },
    {
     "data": {
      "text/html": [
       "<div>\n",
       "<style scoped>\n",
       "    .dataframe tbody tr th:only-of-type {\n",
       "        vertical-align: middle;\n",
       "    }\n",
       "\n",
       "    .dataframe tbody tr th {\n",
       "        vertical-align: top;\n",
       "    }\n",
       "\n",
       "    .dataframe thead th {\n",
       "        text-align: right;\n",
       "    }\n",
       "</style>\n",
       "<table border=\"1\" class=\"dataframe\">\n",
       "  <thead>\n",
       "    <tr style=\"text-align: right;\">\n",
       "      <th></th>\n",
       "      <th>Route</th>\n",
       "      <th>Cost</th>\n",
       "    </tr>\n",
       "  </thead>\n",
       "  <tbody>\n",
       "    <tr>\n",
       "      <th>3</th>\n",
       "      <td>[3, 9, 4, 1, 7, 8, 2, 5, 6, 10]</td>\n",
       "      <td>10013</td>\n",
       "    </tr>\n",
       "    <tr>\n",
       "      <th>8</th>\n",
       "      <td>[7, 4, 9, 1, 3, 8, 5, 2, 10, 6]</td>\n",
       "      <td>12570</td>\n",
       "    </tr>\n",
       "    <tr>\n",
       "      <th>5</th>\n",
       "      <td>[10, 9, 6, 8, 4, 1, 3, 5, 2, 7]</td>\n",
       "      <td>13010</td>\n",
       "    </tr>\n",
       "    <tr>\n",
       "      <th>7</th>\n",
       "      <td>[3, 9, 7, 8, 5, 6, 10, 4, 2, 1]</td>\n",
       "      <td>13236</td>\n",
       "    </tr>\n",
       "    <tr>\n",
       "      <th>2</th>\n",
       "      <td>[8, 3, 2, 7, 5, 10, 6, 4, 1, 9]</td>\n",
       "      <td>13487</td>\n",
       "    </tr>\n",
       "    <tr>\n",
       "      <th>1</th>\n",
       "      <td>[9, 5, 1, 8, 3, 6, 2, 7, 4, 10]</td>\n",
       "      <td>14557</td>\n",
       "    </tr>\n",
       "    <tr>\n",
       "      <th>9</th>\n",
       "      <td>[8, 3, 5, 9, 1, 2, 4, 10, 7, 6]</td>\n",
       "      <td>15071</td>\n",
       "    </tr>\n",
       "    <tr>\n",
       "      <th>0</th>\n",
       "      <td>[8, 6, 2, 5, 3, 10, 9, 4, 1, 7]</td>\n",
       "      <td>15714</td>\n",
       "    </tr>\n",
       "    <tr>\n",
       "      <th>6</th>\n",
       "      <td>[2, 9, 7, 6, 3, 4, 5, 8, 1, 10]</td>\n",
       "      <td>16658</td>\n",
       "    </tr>\n",
       "    <tr>\n",
       "      <th>4</th>\n",
       "      <td>[3, 5, 4, 2, 9, 1, 10, 6, 8, 7]</td>\n",
       "      <td>16924</td>\n",
       "    </tr>\n",
       "  </tbody>\n",
       "</table>\n",
       "</div>"
      ],
      "text/plain": [
       "                             Route   Cost\n",
       "3  [3, 9, 4, 1, 7, 8, 2, 5, 6, 10]  10013\n",
       "8  [7, 4, 9, 1, 3, 8, 5, 2, 10, 6]  12570\n",
       "5  [10, 9, 6, 8, 4, 1, 3, 5, 2, 7]  13010\n",
       "7  [3, 9, 7, 8, 5, 6, 10, 4, 2, 1]  13236\n",
       "2  [8, 3, 2, 7, 5, 10, 6, 4, 1, 9]  13487\n",
       "1  [9, 5, 1, 8, 3, 6, 2, 7, 4, 10]  14557\n",
       "9  [8, 3, 5, 9, 1, 2, 4, 10, 7, 6]  15071\n",
       "0  [8, 6, 2, 5, 3, 10, 9, 4, 1, 7]  15714\n",
       "6  [2, 9, 7, 6, 3, 4, 5, 8, 1, 10]  16658\n",
       "4  [3, 5, 4, 2, 9, 1, 10, 6, 8, 7]  16924"
      ]
     },
     "execution_count": 4,
     "metadata": {},
     "output_type": "execute_result"
    }
   ],
   "source": [
    "ga_obj.initial_pop_cost()"
   ]
  },
  {
   "cell_type": "code",
   "execution_count": 5,
   "metadata": {},
   "outputs": [
    {
     "data": {
      "text/html": [
       "<div>\n",
       "<style scoped>\n",
       "    .dataframe tbody tr th:only-of-type {\n",
       "        vertical-align: middle;\n",
       "    }\n",
       "\n",
       "    .dataframe tbody tr th {\n",
       "        vertical-align: top;\n",
       "    }\n",
       "\n",
       "    .dataframe thead th {\n",
       "        text-align: right;\n",
       "    }\n",
       "</style>\n",
       "<table border=\"1\" class=\"dataframe\">\n",
       "  <thead>\n",
       "    <tr style=\"text-align: right;\">\n",
       "      <th></th>\n",
       "      <th>Route</th>\n",
       "      <th>Cost</th>\n",
       "    </tr>\n",
       "  </thead>\n",
       "  <tbody>\n",
       "    <tr>\n",
       "      <th>3</th>\n",
       "      <td>[3, 9, 4, 1, 7, 8, 2, 5, 6, 10]</td>\n",
       "      <td>10013</td>\n",
       "    </tr>\n",
       "    <tr>\n",
       "      <th>8</th>\n",
       "      <td>[7, 4, 9, 1, 3, 8, 5, 2, 10, 6]</td>\n",
       "      <td>12570</td>\n",
       "    </tr>\n",
       "    <tr>\n",
       "      <th>5</th>\n",
       "      <td>[10, 9, 6, 8, 4, 1, 3, 5, 2, 7]</td>\n",
       "      <td>13010</td>\n",
       "    </tr>\n",
       "    <tr>\n",
       "      <th>7</th>\n",
       "      <td>[3, 9, 7, 8, 5, 6, 10, 4, 2, 1]</td>\n",
       "      <td>13236</td>\n",
       "    </tr>\n",
       "    <tr>\n",
       "      <th>2</th>\n",
       "      <td>[8, 3, 2, 7, 5, 10, 6, 4, 1, 9]</td>\n",
       "      <td>13487</td>\n",
       "    </tr>\n",
       "  </tbody>\n",
       "</table>\n",
       "</div>"
      ],
      "text/plain": [
       "                             Route   Cost\n",
       "3  [3, 9, 4, 1, 7, 8, 2, 5, 6, 10]  10013\n",
       "8  [7, 4, 9, 1, 3, 8, 5, 2, 10, 6]  12570\n",
       "5  [10, 9, 6, 8, 4, 1, 3, 5, 2, 7]  13010\n",
       "7  [3, 9, 7, 8, 5, 6, 10, 4, 2, 1]  13236\n",
       "2  [8, 3, 2, 7, 5, 10, 6, 4, 1, 9]  13487"
      ]
     },
     "execution_count": 5,
     "metadata": {},
     "output_type": "execute_result"
    }
   ],
   "source": [
    "ga_obj.the_elite_few()"
   ]
  },
  {
   "cell_type": "code",
   "execution_count": 6,
   "metadata": {},
   "outputs": [
    {
     "data": {
      "text/html": [
       "<div>\n",
       "<style scoped>\n",
       "    .dataframe tbody tr th:only-of-type {\n",
       "        vertical-align: middle;\n",
       "    }\n",
       "\n",
       "    .dataframe tbody tr th {\n",
       "        vertical-align: top;\n",
       "    }\n",
       "\n",
       "    .dataframe thead th {\n",
       "        text-align: right;\n",
       "    }\n",
       "</style>\n",
       "<table border=\"1\" class=\"dataframe\">\n",
       "  <thead>\n",
       "    <tr style=\"text-align: right;\">\n",
       "      <th></th>\n",
       "      <th>Route</th>\n",
       "      <th>Cost</th>\n",
       "    </tr>\n",
       "  </thead>\n",
       "  <tbody>\n",
       "    <tr>\n",
       "      <th>0</th>\n",
       "      <td>[3, 9, 4, 1, 7, 8, 2, 5, 6, 10]</td>\n",
       "      <td>10013</td>\n",
       "    </tr>\n",
       "    <tr>\n",
       "      <th>1</th>\n",
       "      <td>[1, 3, 8, 5, 2, 10, 6, 7, 4, 9]</td>\n",
       "      <td>14430</td>\n",
       "    </tr>\n",
       "    <tr>\n",
       "      <th>2</th>\n",
       "      <td>[10, 9, 6, 8, 4, 1, 3, 5, 2, 7]</td>\n",
       "      <td>13010</td>\n",
       "    </tr>\n",
       "    <tr>\n",
       "      <th>3</th>\n",
       "      <td>[3, 9, 7, 8, 5, 6, 10, 4, 2, 1]</td>\n",
       "      <td>13236</td>\n",
       "    </tr>\n",
       "    <tr>\n",
       "      <th>4</th>\n",
       "      <td>[8, 3, 2, 7, 5, 10, 6, 4, 1, 9]</td>\n",
       "      <td>13487</td>\n",
       "    </tr>\n",
       "  </tbody>\n",
       "</table>\n",
       "</div>"
      ],
      "text/plain": [
       "                             Route   Cost\n",
       "0  [3, 9, 4, 1, 7, 8, 2, 5, 6, 10]  10013\n",
       "1  [1, 3, 8, 5, 2, 10, 6, 7, 4, 9]  14430\n",
       "2  [10, 9, 6, 8, 4, 1, 3, 5, 2, 7]  13010\n",
       "3  [3, 9, 7, 8, 5, 6, 10, 4, 2, 1]  13236\n",
       "4  [8, 3, 2, 7, 5, 10, 6, 4, 1, 9]  13487"
      ]
     },
     "execution_count": 6,
     "metadata": {},
     "output_type": "execute_result"
    }
   ],
   "source": [
    "ga_obj.mutation_function(ga_obj.the_elite_few())"
   ]
  },
  {
   "cell_type": "markdown",
   "metadata": {},
   "source": [
    "### Run the GA"
   ]
  },
  {
   "cell_type": "code",
   "execution_count": 7,
   "metadata": {},
   "outputs": [],
   "source": [
    "# ga_obj = GeneticAlgoLibrary.OverallGaRun(noverall=1,\n",
    "#                                      number_of_cities=11,\n",
    "#                                      initial_pop_size=1000,\n",
    "#                                      nelite=10,\n",
    "#                                      percentage_to_crossover=20,\n",
    "#                                      percentage_to_mutate=20,\n",
    "#                                      dist_mat=data1)"
   ]
  },
  {
   "cell_type": "code",
   "execution_count": 8,
   "metadata": {},
   "outputs": [
    {
     "name": "stderr",
     "output_type": "stream",
     "text": [
      "Cities Mapping: 100%|███████████████████████████████████████████████████████| 11/11 [00:00<00:00, 11032.36it/s]\n"
     ]
    },
    {
     "name": "stdout",
     "output_type": "stream",
     "text": [
      "Starting 10 iterations of the GA\n"
     ]
    },
    {
     "name": "stderr",
     "output_type": "stream",
     "text": [
      "Crossover: 100%|████████████████████████████████████████████████████████████████| 3/3 [00:00<00:00, 108.18it/s]\n",
      "Crossover: 100%|█████████████████████████████████████████████████████████████████████████| 3/3 [00:00<?, ?it/s]\n",
      "Crossover: 100%|█████████████████████████████████████████████████████████████████████████| 3/3 [00:00<?, ?it/s]\n",
      "Crossover: 100%|█████████████████████████████████████████████████████████████████████████| 3/3 [00:00<?, ?it/s]\n",
      "Crossover: 100%|█████████████████████████████████████████████████████████████████████████| 3/3 [00:00<?, ?it/s]\n",
      "Crossover: 100%|███████████████████████████████████████████████████████████████| 3/3 [00:00<00:00, 1503.69it/s]\n",
      "Crossover: 100%|████████████████████████████████████████████████████████████████| 3/3 [00:00<00:00, 162.18it/s]\n",
      "Crossover: 100%|████████████████████████████████████████████████████████████████| 3/3 [00:00<00:00, 174.19it/s]\n",
      "Crossover: 100%|█████████████████████████████████████████████████████████████████████████| 3/3 [00:00<?, ?it/s]\n",
      "Crossover: 100%|█████████████████████████████████████████████████████████████████████████| 3/3 [00:00<?, ?it/s]\n"
     ]
    },
    {
     "name": "stdout",
     "output_type": "stream",
     "text": [
      "-----------------------------------------------------------------\n",
      "Best solution for initial population size of 10000 and number \n",
      "            of runs 10 is \n",
      "                              Route  Cost\n",
      "1  [6, 9, 3, 1, 4, 7, 2, 8, 10, 5]  6642\n",
      "Generated 20(0.001%) of the 3628800 solutions\n",
      "Total distance travelled to cover the final route of \n",
      " Bangalore => Mysore => Mumbai => Udaipur => Jaipur => Delhi => Agra => Varanasi => Kolkata => Hyderabad => Chennai => Bangalore is 6642 KM.\n",
      "             (Generated from initial population size of 10000)\n",
      "-----------------------------------------------------------------\n"
     ]
    }
   ],
   "source": [
    "for i in [10,\n",
    "#           100,1000\n",
    "         ]:\n",
    "    ga_obj = GeneticAlgoLibrary.OverallGaRun(noverall=i,\n",
    "                                       number_of_cities=11,\n",
    "                                       initial_pop_size=10000,\n",
    "                                       nelite=10,\n",
    "                                       percentage_to_crossover=20,\n",
    "                                       percentage_to_mutate=20,\n",
    "                                       dist_mat=data1)\n",
    "    best_sol = ga_obj.run_overall_ga()"
   ]
  },
  {
   "cell_type": "markdown",
   "metadata": {},
   "source": [
    "## Generate a plot for the best solution"
   ]
  },
  {
   "cell_type": "code",
   "execution_count": 10,
   "metadata": {},
   "outputs": [
    {
     "data": {
      "text/html": [
       "<iframe src=\"about:blank\" width=\"750\" height=\"1000\"style=\"border:none !important;\" data-html=PCFET0NUWVBFIGh0bWw+CjxoZWFkPiAgICAKICAgIDxtZXRhIGh0dHAtZXF1aXY9ImNvbnRlbnQtdHlwZSIgY29udGVudD0idGV4dC9odG1sOyBjaGFyc2V0PVVURi04IiAvPgogICAgCiAgICAgICAgPHNjcmlwdD4KICAgICAgICAgICAgTF9OT19UT1VDSCA9IGZhbHNlOwogICAgICAgICAgICBMX0RJU0FCTEVfM0QgPSBmYWxzZTsKICAgICAgICA8L3NjcmlwdD4KICAgIAogICAgPHNjcmlwdCBzcmM9Imh0dHBzOi8vY2RuLmpzZGVsaXZyLm5ldC9ucG0vbGVhZmxldEAxLjUuMS9kaXN0L2xlYWZsZXQuanMiPjwvc2NyaXB0PgogICAgPHNjcmlwdCBzcmM9Imh0dHBzOi8vY29kZS5qcXVlcnkuY29tL2pxdWVyeS0xLjEyLjQubWluLmpzIj48L3NjcmlwdD4KICAgIDxzY3JpcHQgc3JjPSJodHRwczovL21heGNkbi5ib290c3RyYXBjZG4uY29tL2Jvb3RzdHJhcC8zLjIuMC9qcy9ib290c3RyYXAubWluLmpzIj48L3NjcmlwdD4KICAgIDxzY3JpcHQgc3JjPSJodHRwczovL2NkbmpzLmNsb3VkZmxhcmUuY29tL2FqYXgvbGlicy9MZWFmbGV0LmF3ZXNvbWUtbWFya2Vycy8yLjAuMi9sZWFmbGV0LmF3ZXNvbWUtbWFya2Vycy5qcyI+PC9zY3JpcHQ+CiAgICA8bGluayByZWw9InN0eWxlc2hlZXQiIGhyZWY9Imh0dHBzOi8vY2RuLmpzZGVsaXZyLm5ldC9ucG0vbGVhZmxldEAxLjUuMS9kaXN0L2xlYWZsZXQuY3NzIi8+CiAgICA8bGluayByZWw9InN0eWxlc2hlZXQiIGhyZWY9Imh0dHBzOi8vbWF4Y2RuLmJvb3RzdHJhcGNkbi5jb20vYm9vdHN0cmFwLzMuMi4wL2Nzcy9ib290c3RyYXAubWluLmNzcyIvPgogICAgPGxpbmsgcmVsPSJzdHlsZXNoZWV0IiBocmVmPSJodHRwczovL21heGNkbi5ib290c3RyYXBjZG4uY29tL2Jvb3RzdHJhcC8zLjIuMC9jc3MvYm9vdHN0cmFwLXRoZW1lLm1pbi5jc3MiLz4KICAgIDxsaW5rIHJlbD0ic3R5bGVzaGVldCIgaHJlZj0iaHR0cHM6Ly9tYXhjZG4uYm9vdHN0cmFwY2RuLmNvbS9mb250LWF3ZXNvbWUvNC42LjMvY3NzL2ZvbnQtYXdlc29tZS5taW4uY3NzIi8+CiAgICA8bGluayByZWw9InN0eWxlc2hlZXQiIGhyZWY9Imh0dHBzOi8vY2RuanMuY2xvdWRmbGFyZS5jb20vYWpheC9saWJzL0xlYWZsZXQuYXdlc29tZS1tYXJrZXJzLzIuMC4yL2xlYWZsZXQuYXdlc29tZS1tYXJrZXJzLmNzcyIvPgogICAgPGxpbmsgcmVsPSJzdHlsZXNoZWV0IiBocmVmPSJodHRwczovL3Jhd2Nkbi5naXRoYWNrLmNvbS9weXRob24tdmlzdWFsaXphdGlvbi9mb2xpdW0vbWFzdGVyL2ZvbGl1bS90ZW1wbGF0ZXMvbGVhZmxldC5hd2Vzb21lLnJvdGF0ZS5jc3MiLz4KICAgIDxzdHlsZT5odG1sLCBib2R5IHt3aWR0aDogMTAwJTtoZWlnaHQ6IDEwMCU7bWFyZ2luOiAwO3BhZGRpbmc6IDA7fTwvc3R5bGU+CiAgICA8c3R5bGU+I21hcCB7cG9zaXRpb246YWJzb2x1dGU7dG9wOjA7Ym90dG9tOjA7cmlnaHQ6MDtsZWZ0OjA7fTwvc3R5bGU+CiAgICAKICAgICAgICAgICAgPG1ldGEgbmFtZT0idmlld3BvcnQiIGNvbnRlbnQ9IndpZHRoPWRldmljZS13aWR0aCwKICAgICAgICAgICAgICAgIGluaXRpYWwtc2NhbGU9MS4wLCBtYXhpbXVtLXNjYWxlPTEuMCwgdXNlci1zY2FsYWJsZT1ubyIgLz4KICAgICAgICAgICAgPHN0eWxlPgogICAgICAgICAgICAgICAgI21hcF9iMzllZDdkYTBjODY0YWZkODJmOTBmOTY1YWQ4OWQ3MiB7CiAgICAgICAgICAgICAgICAgICAgcG9zaXRpb246IHJlbGF0aXZlOwogICAgICAgICAgICAgICAgICAgIHdpZHRoOiAxMDAuMCU7CiAgICAgICAgICAgICAgICAgICAgaGVpZ2h0OiAxMDAuMCU7CiAgICAgICAgICAgICAgICAgICAgbGVmdDogMC4wJTsKICAgICAgICAgICAgICAgICAgICB0b3A6IDAuMCU7CiAgICAgICAgICAgICAgICB9CiAgICAgICAgICAgIDwvc3R5bGU+CiAgICAgICAgCjwvaGVhZD4KPGJvZHk+ICAgIAogICAgCiAgICAgICAgICAgIDxkaXYgY2xhc3M9ImZvbGl1bS1tYXAiIGlkPSJtYXBfYjM5ZWQ3ZGEwYzg2NGFmZDgyZjkwZjk2NWFkODlkNzIiID48L2Rpdj4KICAgICAgICAKPC9ib2R5Pgo8c2NyaXB0PiAgICAKICAgIAogICAgICAgICAgICB2YXIgbWFwX2IzOWVkN2RhMGM4NjRhZmQ4MmY5MGY5NjVhZDg5ZDcyID0gTC5tYXAoCiAgICAgICAgICAgICAgICAibWFwX2IzOWVkN2RhMGM4NjRhZmQ4MmY5MGY5NjVhZDg5ZDcyIiwKICAgICAgICAgICAgICAgIHsKICAgICAgICAgICAgICAgICAgICBjZW50ZXI6IFsxMi45NzE2LCA3Ny41OTQ2XSwKICAgICAgICAgICAgICAgICAgICBjcnM6IEwuQ1JTLkVQU0czODU3LAogICAgICAgICAgICAgICAgICAgIHpvb206IDUsCiAgICAgICAgICAgICAgICAgICAgem9vbUNvbnRyb2w6IHRydWUsCiAgICAgICAgICAgICAgICAgICAgcHJlZmVyQ2FudmFzOiBmYWxzZSwKICAgICAgICAgICAgICAgIH0KICAgICAgICAgICAgKTsKCiAgICAgICAgICAgIAoKICAgICAgICAKICAgIAogICAgICAgICAgICB2YXIgdGlsZV9sYXllcl9jYjJhOWZhZmMzYzU0Yzc1YjQ2MTg4M2Y0YjczNDM1ZSA9IEwudGlsZUxheWVyKAogICAgICAgICAgICAgICAgImh0dHBzOi8vY2FydG9kYi1iYXNlbWFwcy17c30uZ2xvYmFsLnNzbC5mYXN0bHkubmV0L2xpZ2h0X2FsbC97en0ve3h9L3t5fS5wbmciLAogICAgICAgICAgICAgICAgeyJhdHRyaWJ1dGlvbiI6ICJcdTAwMjZjb3B5OyBcdTAwM2NhIGhyZWY9XCJodHRwOi8vd3d3Lm9wZW5zdHJlZXRtYXAub3JnL2NvcHlyaWdodFwiXHUwMDNlT3BlblN0cmVldE1hcFx1MDAzYy9hXHUwMDNlIGNvbnRyaWJ1dG9ycyBcdTAwMjZjb3B5OyBcdTAwM2NhIGhyZWY9XCJodHRwOi8vY2FydG9kYi5jb20vYXR0cmlidXRpb25zXCJcdTAwM2VDYXJ0b0RCXHUwMDNjL2FcdTAwM2UsIENhcnRvREIgXHUwMDNjYSBocmVmID1cImh0dHA6Ly9jYXJ0b2RiLmNvbS9hdHRyaWJ1dGlvbnNcIlx1MDAzZWF0dHJpYnV0aW9uc1x1MDAzYy9hXHUwMDNlIiwgImRldGVjdFJldGluYSI6IGZhbHNlLCAibWF4TmF0aXZlWm9vbSI6IDE4LCAibWF4Wm9vbSI6IDE4LCAibWluWm9vbSI6IDAsICJub1dyYXAiOiBmYWxzZSwgIm9wYWNpdHkiOiAxLCAic3ViZG9tYWlucyI6ICJhYmMiLCAidG1zIjogZmFsc2V9CiAgICAgICAgICAgICkuYWRkVG8obWFwX2IzOWVkN2RhMGM4NjRhZmQ4MmY5MGY5NjVhZDg5ZDcyKTsKICAgICAgICAKICAgIAogICAgICAgICAgICB2YXIgcG9seV9saW5lXzU1ZTY2ZGU3NDFlYzRiNGNiNmUxOTAxYTJiYjQ0MmRlID0gTC5wb2x5bGluZSgKICAgICAgICAgICAgICAgIFtbMTIuOTcxNiwgNzcuNTk0Nl1dLAogICAgICAgICAgICAgICAgeyJidWJibGluZ01vdXNlRXZlbnRzIjogdHJ1ZSwgImNvbG9yIjogImJsdWUiLCAiZGFzaEFycmF5IjogbnVsbCwgImRhc2hPZmZzZXQiOiBudWxsLCAiZmlsbCI6IGZhbHNlLCAiZmlsbENvbG9yIjogImJsdWUiLCAiZmlsbE9wYWNpdHkiOiAwLjIsICJmaWxsUnVsZSI6ICJldmVub2RkIiwgImxpbmVDYXAiOiAicm91bmQiLCAibGluZUpvaW4iOiAicm91bmQiLCAibm9DbGlwIjogZmFsc2UsICJvcGFjaXR5IjogMS4wLCAic21vb3RoRmFjdG9yIjogMS4wLCAic3Ryb2tlIjogdHJ1ZSwgIndlaWdodCI6IDJ9CiAgICAgICAgICAgICkuYWRkVG8obWFwX2IzOWVkN2RhMGM4NjRhZmQ4MmY5MGY5NjVhZDg5ZDcyKTsKICAgICAgICAKICAgIAogICAgICAgIHZhciBwb3B1cF84ODJkMWYwYmIwZDY0OTBjOGQ5NjkzNmFhNzdiMDBlMSA9IEwucG9wdXAoeyJtYXhXaWR0aCI6ICIxMDAlIn0pOwoKICAgICAgICAKICAgICAgICAgICAgdmFyIGh0bWxfN2NjY2E1NmQ5NDBhNDQ0M2I4OTVmMTJlZjM5MDI4OWYgPSAkKGA8ZGl2IGlkPSJodG1sXzdjY2NhNTZkOTQwYTQ0NDNiODk1ZjEyZWYzOTAyODlmIiBzdHlsZT0id2lkdGg6IDEwMC4wJTsgaGVpZ2h0OiAxMDAuMCU7Ij48Yj5CZXN0IHBhdGg8L2I+PC9kaXY+YClbMF07CiAgICAgICAgICAgIHBvcHVwXzg4MmQxZjBiYjBkNjQ5MGM4ZDk2OTM2YWE3N2IwMGUxLnNldENvbnRlbnQoaHRtbF83Y2NjYTU2ZDk0MGE0NDQzYjg5NWYxMmVmMzkwMjg5Zik7CiAgICAgICAgCgogICAgICAgIHBvbHlfbGluZV81NWU2NmRlNzQxZWM0YjRjYjZlMTkwMWEyYmI0NDJkZS5iaW5kUG9wdXAocG9wdXBfODgyZDFmMGJiMGQ2NDkwYzhkOTY5MzZhYTc3YjAwZTEpCiAgICAgICAgOwoKICAgICAgICAKICAgIAogICAgCiAgICAgICAgICAgIHBvbHlfbGluZV81NWU2NmRlNzQxZWM0YjRjYjZlMTkwMWEyYmI0NDJkZS5iaW5kVG9vbHRpcCgKICAgICAgICAgICAgICAgIGA8ZGl2PgogICAgICAgICAgICAgICAgICAgICBSb3V0ZQogICAgICAgICAgICAgICAgIDwvZGl2PmAsCiAgICAgICAgICAgICAgICB7InN0aWNreSI6IHRydWV9CiAgICAgICAgICAgICk7CiAgICAgICAgCiAgICAKICAgICAgICAgICAgdmFyIHBvbHlfbGluZV8zNTkwYTc2MDc2OGM0YzRiOGI4ZTYzNjA1MTAzYzgyNiA9IEwucG9seWxpbmUoCiAgICAgICAgICAgICAgICBbWzEyLjk3MTYsIDc3LjU5NDZdLCBbMTIuMjk1OCwgNzYuNjM5NF1dLAogICAgICAgICAgICAgICAgeyJidWJibGluZ01vdXNlRXZlbnRzIjogdHJ1ZSwgImNvbG9yIjogImJsdWUiLCAiZGFzaEFycmF5IjogbnVsbCwgImRhc2hPZmZzZXQiOiBudWxsLCAiZmlsbCI6IGZhbHNlLCAiZmlsbENvbG9yIjogImJsdWUiLCAiZmlsbE9wYWNpdHkiOiAwLjIsICJmaWxsUnVsZSI6ICJldmVub2RkIiwgImxpbmVDYXAiOiAicm91bmQiLCAibGluZUpvaW4iOiAicm91bmQiLCAibm9DbGlwIjogZmFsc2UsICJvcGFjaXR5IjogMS4wLCAic21vb3RoRmFjdG9yIjogMS4wLCAic3Ryb2tlIjogdHJ1ZSwgIndlaWdodCI6IDJ9CiAgICAgICAgICAgICkuYWRkVG8obWFwX2IzOWVkN2RhMGM4NjRhZmQ4MmY5MGY5NjVhZDg5ZDcyKTsKICAgICAgICAKICAgIAogICAgICAgIHZhciBwb3B1cF84M2IwMDkxNGNkNjc0YmNjYjEwNDQ0ODE5N2EyMjE4OCA9IEwucG9wdXAoeyJtYXhXaWR0aCI6ICIxMDAlIn0pOwoKICAgICAgICAKICAgICAgICAgICAgdmFyIGh0bWxfM2VjYzE2NTI3ODhiNGQxNzlmOWMyMGZiNThhMmE5N2UgPSAkKGA8ZGl2IGlkPSJodG1sXzNlY2MxNjUyNzg4YjRkMTc5ZjljMjBmYjU4YTJhOTdlIiBzdHlsZT0id2lkdGg6IDEwMC4wJTsgaGVpZ2h0OiAxMDAuMCU7Ij48Yj5CZXN0IHBhdGg8L2I+PC9kaXY+YClbMF07CiAgICAgICAgICAgIHBvcHVwXzgzYjAwOTE0Y2Q2NzRiY2NiMTA0NDQ4MTk3YTIyMTg4LnNldENvbnRlbnQoaHRtbF8zZWNjMTY1Mjc4OGI0ZDE3OWY5YzIwZmI1OGEyYTk3ZSk7CiAgICAgICAgCgogICAgICAgIHBvbHlfbGluZV8zNTkwYTc2MDc2OGM0YzRiOGI4ZTYzNjA1MTAzYzgyNi5iaW5kUG9wdXAocG9wdXBfODNiMDA5MTRjZDY3NGJjY2IxMDQ0NDgxOTdhMjIxODgpCiAgICAgICAgOwoKICAgICAgICAKICAgIAogICAgCiAgICAgICAgICAgIHBvbHlfbGluZV8zNTkwYTc2MDc2OGM0YzRiOGI4ZTYzNjA1MTAzYzgyNi5iaW5kVG9vbHRpcCgKICAgICAgICAgICAgICAgIGA8ZGl2PgogICAgICAgICAgICAgICAgICAgICBSb3V0ZQogICAgICAgICAgICAgICAgIDwvZGl2PmAsCiAgICAgICAgICAgICAgICB7InN0aWNreSI6IHRydWV9CiAgICAgICAgICAgICk7CiAgICAgICAgCiAgICAKICAgICAgICAgICAgdmFyIHBvbHlfbGluZV8zODgyMDYzYTUxOGE0M2U2YWI5Y2NjYmRjNWI1OTY2YiA9IEwucG9seWxpbmUoCiAgICAgICAgICAgICAgICBbWzEyLjk3MTYsIDc3LjU5NDZdLCBbMTIuMjk1OCwgNzYuNjM5NF0sIFsxOS4wNzYsIDcyLjg3NzddXSwKICAgICAgICAgICAgICAgIHsiYnViYmxpbmdNb3VzZUV2ZW50cyI6IHRydWUsICJjb2xvciI6ICJibHVlIiwgImRhc2hBcnJheSI6IG51bGwsICJkYXNoT2Zmc2V0IjogbnVsbCwgImZpbGwiOiBmYWxzZSwgImZpbGxDb2xvciI6ICJibHVlIiwgImZpbGxPcGFjaXR5IjogMC4yLCAiZmlsbFJ1bGUiOiAiZXZlbm9kZCIsICJsaW5lQ2FwIjogInJvdW5kIiwgImxpbmVKb2luIjogInJvdW5kIiwgIm5vQ2xpcCI6IGZhbHNlLCAib3BhY2l0eSI6IDEuMCwgInNtb290aEZhY3RvciI6IDEuMCwgInN0cm9rZSI6IHRydWUsICJ3ZWlnaHQiOiAyfQogICAgICAgICAgICApLmFkZFRvKG1hcF9iMzllZDdkYTBjODY0YWZkODJmOTBmOTY1YWQ4OWQ3Mik7CiAgICAgICAgCiAgICAKICAgICAgICB2YXIgcG9wdXBfOTA1ZThkMmI1NmFmNGQ5NWIzNjg2MjQwYjYwNjNlOGQgPSBMLnBvcHVwKHsibWF4V2lkdGgiOiAiMTAwJSJ9KTsKCiAgICAgICAgCiAgICAgICAgICAgIHZhciBodG1sXzA2OTUwYTg1ZWI5YjQxYjY5MjY0MjUwNDU5NWFhZTBhID0gJChgPGRpdiBpZD0iaHRtbF8wNjk1MGE4NWViOWI0MWI2OTI2NDI1MDQ1OTVhYWUwYSIgc3R5bGU9IndpZHRoOiAxMDAuMCU7IGhlaWdodDogMTAwLjAlOyI+PGI+QmVzdCBwYXRoPC9iPjwvZGl2PmApWzBdOwogICAgICAgICAgICBwb3B1cF85MDVlOGQyYjU2YWY0ZDk1YjM2ODYyNDBiNjA2M2U4ZC5zZXRDb250ZW50KGh0bWxfMDY5NTBhODVlYjliNDFiNjkyNjQyNTA0NTk1YWFlMGEpOwogICAgICAgIAoKICAgICAgICBwb2x5X2xpbmVfMzg4MjA2M2E1MThhNDNlNmFiOWNjY2JkYzViNTk2NmIuYmluZFBvcHVwKHBvcHVwXzkwNWU4ZDJiNTZhZjRkOTViMzY4NjI0MGI2MDYzZThkKQogICAgICAgIDsKCiAgICAgICAgCiAgICAKICAgIAogICAgICAgICAgICBwb2x5X2xpbmVfMzg4MjA2M2E1MThhNDNlNmFiOWNjY2JkYzViNTk2NmIuYmluZFRvb2x0aXAoCiAgICAgICAgICAgICAgICBgPGRpdj4KICAgICAgICAgICAgICAgICAgICAgUm91dGUKICAgICAgICAgICAgICAgICA8L2Rpdj5gLAogICAgICAgICAgICAgICAgeyJzdGlja3kiOiB0cnVlfQogICAgICAgICAgICApOwogICAgICAgIAogICAgCiAgICAgICAgICAgIHZhciBwb2x5X2xpbmVfNjI2Y2FlNTk2NDA0NDQ0OGIwYjEzOTcyMzA4MjdhYTEgPSBMLnBvbHlsaW5lKAogICAgICAgICAgICAgICAgW1sxMi45NzE2LCA3Ny41OTQ2XSwgWzEyLjI5NTgsIDc2LjYzOTRdLCBbMTkuMDc2LCA3Mi44Nzc3XSwgWzI0LjU4NTQsIDczLjcxMjVdXSwKICAgICAgICAgICAgICAgIHsiYnViYmxpbmdNb3VzZUV2ZW50cyI6IHRydWUsICJjb2xvciI6ICJibHVlIiwgImRhc2hBcnJheSI6IG51bGwsICJkYXNoT2Zmc2V0IjogbnVsbCwgImZpbGwiOiBmYWxzZSwgImZpbGxDb2xvciI6ICJibHVlIiwgImZpbGxPcGFjaXR5IjogMC4yLCAiZmlsbFJ1bGUiOiAiZXZlbm9kZCIsICJsaW5lQ2FwIjogInJvdW5kIiwgImxpbmVKb2luIjogInJvdW5kIiwgIm5vQ2xpcCI6IGZhbHNlLCAib3BhY2l0eSI6IDEuMCwgInNtb290aEZhY3RvciI6IDEuMCwgInN0cm9rZSI6IHRydWUsICJ3ZWlnaHQiOiAyfQogICAgICAgICAgICApLmFkZFRvKG1hcF9iMzllZDdkYTBjODY0YWZkODJmOTBmOTY1YWQ4OWQ3Mik7CiAgICAgICAgCiAgICAKICAgICAgICB2YXIgcG9wdXBfZjg5YjdjODIwOWViNGZiOGE4N2MwZWEwMmQ1MGFkOGQgPSBMLnBvcHVwKHsibWF4V2lkdGgiOiAiMTAwJSJ9KTsKCiAgICAgICAgCiAgICAgICAgICAgIHZhciBodG1sX2M3YWVkMTM4ODFmODRmNmI5ZDM5ZTQ1N2YzYmMzMGMwID0gJChgPGRpdiBpZD0iaHRtbF9jN2FlZDEzODgxZjg0ZjZiOWQzOWU0NTdmM2JjMzBjMCIgc3R5bGU9IndpZHRoOiAxMDAuMCU7IGhlaWdodDogMTAwLjAlOyI+PGI+QmVzdCBwYXRoPC9iPjwvZGl2PmApWzBdOwogICAgICAgICAgICBwb3B1cF9mODliN2M4MjA5ZWI0ZmI4YTg3YzBlYTAyZDUwYWQ4ZC5zZXRDb250ZW50KGh0bWxfYzdhZWQxMzg4MWY4NGY2YjlkMzllNDU3ZjNiYzMwYzApOwogICAgICAgIAoKICAgICAgICBwb2x5X2xpbmVfNjI2Y2FlNTk2NDA0NDQ0OGIwYjEzOTcyMzA4MjdhYTEuYmluZFBvcHVwKHBvcHVwX2Y4OWI3YzgyMDllYjRmYjhhODdjMGVhMDJkNTBhZDhkKQogICAgICAgIDsKCiAgICAgICAgCiAgICAKICAgIAogICAgICAgICAgICBwb2x5X2xpbmVfNjI2Y2FlNTk2NDA0NDQ0OGIwYjEzOTcyMzA4MjdhYTEuYmluZFRvb2x0aXAoCiAgICAgICAgICAgICAgICBgPGRpdj4KICAgICAgICAgICAgICAgICAgICAgUm91dGUKICAgICAgICAgICAgICAgICA8L2Rpdj5gLAogICAgICAgICAgICAgICAgeyJzdGlja3kiOiB0cnVlfQogICAgICAgICAgICApOwogICAgICAgIAogICAgCiAgICAgICAgICAgIHZhciBwb2x5X2xpbmVfZmFhYjFiY2RmNWUwNGNiZGE1MTkzMDQ4MGRhZWQ1N2YgPSBMLnBvbHlsaW5lKAogICAgICAgICAgICAgICAgW1sxMi45NzE2LCA3Ny41OTQ2XSwgWzEyLjI5NTgsIDc2LjYzOTRdLCBbMTkuMDc2LCA3Mi44Nzc3XSwgWzI0LjU4NTQsIDczLjcxMjVdLCBbMjYuOTEyNCwgNzUuNzg3M11dLAogICAgICAgICAgICAgICAgeyJidWJibGluZ01vdXNlRXZlbnRzIjogdHJ1ZSwgImNvbG9yIjogImJsdWUiLCAiZGFzaEFycmF5IjogbnVsbCwgImRhc2hPZmZzZXQiOiBudWxsLCAiZmlsbCI6IGZhbHNlLCAiZmlsbENvbG9yIjogImJsdWUiLCAiZmlsbE9wYWNpdHkiOiAwLjIsICJmaWxsUnVsZSI6ICJldmVub2RkIiwgImxpbmVDYXAiOiAicm91bmQiLCAibGluZUpvaW4iOiAicm91bmQiLCAibm9DbGlwIjogZmFsc2UsICJvcGFjaXR5IjogMS4wLCAic21vb3RoRmFjdG9yIjogMS4wLCAic3Ryb2tlIjogdHJ1ZSwgIndlaWdodCI6IDJ9CiAgICAgICAgICAgICkuYWRkVG8obWFwX2IzOWVkN2RhMGM4NjRhZmQ4MmY5MGY5NjVhZDg5ZDcyKTsKICAgICAgICAKICAgIAogICAgICAgIHZhciBwb3B1cF8zZTQ4ODgzMmI1OTg0Njc4YTdlMTlhNmEyNDQ0MDg2NCA9IEwucG9wdXAoeyJtYXhXaWR0aCI6ICIxMDAlIn0pOwoKICAgICAgICAKICAgICAgICAgICAgdmFyIGh0bWxfZjc3MzMzYTMwMTdjNGFhY2JjNGRhYjIxYzE0MDM5OTMgPSAkKGA8ZGl2IGlkPSJodG1sX2Y3NzMzM2EzMDE3YzRhYWNiYzRkYWIyMWMxNDAzOTkzIiBzdHlsZT0id2lkdGg6IDEwMC4wJTsgaGVpZ2h0OiAxMDAuMCU7Ij48Yj5CZXN0IHBhdGg8L2I+PC9kaXY+YClbMF07CiAgICAgICAgICAgIHBvcHVwXzNlNDg4ODMyYjU5ODQ2NzhhN2UxOWE2YTI0NDQwODY0LnNldENvbnRlbnQoaHRtbF9mNzczMzNhMzAxN2M0YWFjYmM0ZGFiMjFjMTQwMzk5Myk7CiAgICAgICAgCgogICAgICAgIHBvbHlfbGluZV9mYWFiMWJjZGY1ZTA0Y2JkYTUxOTMwNDgwZGFlZDU3Zi5iaW5kUG9wdXAocG9wdXBfM2U0ODg4MzJiNTk4NDY3OGE3ZTE5YTZhMjQ0NDA4NjQpCiAgICAgICAgOwoKICAgICAgICAKICAgIAogICAgCiAgICAgICAgICAgIHBvbHlfbGluZV9mYWFiMWJjZGY1ZTA0Y2JkYTUxOTMwNDgwZGFlZDU3Zi5iaW5kVG9vbHRpcCgKICAgICAgICAgICAgICAgIGA8ZGl2PgogICAgICAgICAgICAgICAgICAgICBSb3V0ZQogICAgICAgICAgICAgICAgIDwvZGl2PmAsCiAgICAgICAgICAgICAgICB7InN0aWNreSI6IHRydWV9CiAgICAgICAgICAgICk7CiAgICAgICAgCiAgICAKICAgICAgICAgICAgdmFyIHBvbHlfbGluZV8yYzUxNzExYzE2Yjk0ZGZjYjkzYmEzN2YzYWZjOTRjZCA9IEwucG9seWxpbmUoCiAgICAgICAgICAgICAgICBbWzEyLjk3MTYsIDc3LjU5NDZdLCBbMTIuMjk1OCwgNzYuNjM5NF0sIFsxOS4wNzYsIDcyLjg3NzddLCBbMjQuNTg1NCwgNzMuNzEyNV0sIFsyNi45MTI0LCA3NS43ODczXSwgWzI4LjcwNDEsIDc3LjEwMjVdXSwKICAgICAgICAgICAgICAgIHsiYnViYmxpbmdNb3VzZUV2ZW50cyI6IHRydWUsICJjb2xvciI6ICJibHVlIiwgImRhc2hBcnJheSI6IG51bGwsICJkYXNoT2Zmc2V0IjogbnVsbCwgImZpbGwiOiBmYWxzZSwgImZpbGxDb2xvciI6ICJibHVlIiwgImZpbGxPcGFjaXR5IjogMC4yLCAiZmlsbFJ1bGUiOiAiZXZlbm9kZCIsICJsaW5lQ2FwIjogInJvdW5kIiwgImxpbmVKb2luIjogInJvdW5kIiwgIm5vQ2xpcCI6IGZhbHNlLCAib3BhY2l0eSI6IDEuMCwgInNtb290aEZhY3RvciI6IDEuMCwgInN0cm9rZSI6IHRydWUsICJ3ZWlnaHQiOiAyfQogICAgICAgICAgICApLmFkZFRvKG1hcF9iMzllZDdkYTBjODY0YWZkODJmOTBmOTY1YWQ4OWQ3Mik7CiAgICAgICAgCiAgICAKICAgICAgICB2YXIgcG9wdXBfNTA5ZDM0ZGIyNTVjNDQ4MDkwMDRmYWRmZjUwMGVlMDAgPSBMLnBvcHVwKHsibWF4V2lkdGgiOiAiMTAwJSJ9KTsKCiAgICAgICAgCiAgICAgICAgICAgIHZhciBodG1sXzNjMDU3NmE1Y2NkZTQwZDQ5ZmZlOGZiNzFlNTA2NDg0ID0gJChgPGRpdiBpZD0iaHRtbF8zYzA1NzZhNWNjZGU0MGQ0OWZmZThmYjcxZTUwNjQ4NCIgc3R5bGU9IndpZHRoOiAxMDAuMCU7IGhlaWdodDogMTAwLjAlOyI+PGI+QmVzdCBwYXRoPC9iPjwvZGl2PmApWzBdOwogICAgICAgICAgICBwb3B1cF81MDlkMzRkYjI1NWM0NDgwOTAwNGZhZGZmNTAwZWUwMC5zZXRDb250ZW50KGh0bWxfM2MwNTc2YTVjY2RlNDBkNDlmZmU4ZmI3MWU1MDY0ODQpOwogICAgICAgIAoKICAgICAgICBwb2x5X2xpbmVfMmM1MTcxMWMxNmI5NGRmY2I5M2JhMzdmM2FmYzk0Y2QuYmluZFBvcHVwKHBvcHVwXzUwOWQzNGRiMjU1YzQ0ODA5MDA0ZmFkZmY1MDBlZTAwKQogICAgICAgIDsKCiAgICAgICAgCiAgICAKICAgIAogICAgICAgICAgICBwb2x5X2xpbmVfMmM1MTcxMWMxNmI5NGRmY2I5M2JhMzdmM2FmYzk0Y2QuYmluZFRvb2x0aXAoCiAgICAgICAgICAgICAgICBgPGRpdj4KICAgICAgICAgICAgICAgICAgICAgUm91dGUKICAgICAgICAgICAgICAgICA8L2Rpdj5gLAogICAgICAgICAgICAgICAgeyJzdGlja3kiOiB0cnVlfQogICAgICAgICAgICApOwogICAgICAgIAogICAgCiAgICAgICAgICAgIHZhciBwb2x5X2xpbmVfZDBlMTE0M2Y5NjUzNDNhNjgzZDI2NzQ0NGI5OGY0NTggPSBMLnBvbHlsaW5lKAogICAgICAgICAgICAgICAgW1sxMi45NzE2LCA3Ny41OTQ2XSwgWzEyLjI5NTgsIDc2LjYzOTRdLCBbMTkuMDc2LCA3Mi44Nzc3XSwgWzI0LjU4NTQsIDczLjcxMjVdLCBbMjYuOTEyNCwgNzUuNzg3M10sIFsyOC43MDQxLCA3Ny4xMDI1XSwgWzI3LjE3NjcsIDc4LjAwODFdXSwKICAgICAgICAgICAgICAgIHsiYnViYmxpbmdNb3VzZUV2ZW50cyI6IHRydWUsICJjb2xvciI6ICJibHVlIiwgImRhc2hBcnJheSI6IG51bGwsICJkYXNoT2Zmc2V0IjogbnVsbCwgImZpbGwiOiBmYWxzZSwgImZpbGxDb2xvciI6ICJibHVlIiwgImZpbGxPcGFjaXR5IjogMC4yLCAiZmlsbFJ1bGUiOiAiZXZlbm9kZCIsICJsaW5lQ2FwIjogInJvdW5kIiwgImxpbmVKb2luIjogInJvdW5kIiwgIm5vQ2xpcCI6IGZhbHNlLCAib3BhY2l0eSI6IDEuMCwgInNtb290aEZhY3RvciI6IDEuMCwgInN0cm9rZSI6IHRydWUsICJ3ZWlnaHQiOiAyfQogICAgICAgICAgICApLmFkZFRvKG1hcF9iMzllZDdkYTBjODY0YWZkODJmOTBmOTY1YWQ4OWQ3Mik7CiAgICAgICAgCiAgICAKICAgICAgICB2YXIgcG9wdXBfZDUzZGMxYWRkMjA4NDBiN2IzY2QxMTRjZDFlNDU0ZTkgPSBMLnBvcHVwKHsibWF4V2lkdGgiOiAiMTAwJSJ9KTsKCiAgICAgICAgCiAgICAgICAgICAgIHZhciBodG1sXzAyZmJiYTcxNDJhMjRjNzA4NjkwMzcyZWNkMzExYTllID0gJChgPGRpdiBpZD0iaHRtbF8wMmZiYmE3MTQyYTI0YzcwODY5MDM3MmVjZDMxMWE5ZSIgc3R5bGU9IndpZHRoOiAxMDAuMCU7IGhlaWdodDogMTAwLjAlOyI+PGI+QmVzdCBwYXRoPC9iPjwvZGl2PmApWzBdOwogICAgICAgICAgICBwb3B1cF9kNTNkYzFhZGQyMDg0MGI3YjNjZDExNGNkMWU0NTRlOS5zZXRDb250ZW50KGh0bWxfMDJmYmJhNzE0MmEyNGM3MDg2OTAzNzJlY2QzMTFhOWUpOwogICAgICAgIAoKICAgICAgICBwb2x5X2xpbmVfZDBlMTE0M2Y5NjUzNDNhNjgzZDI2NzQ0NGI5OGY0NTguYmluZFBvcHVwKHBvcHVwX2Q1M2RjMWFkZDIwODQwYjdiM2NkMTE0Y2QxZTQ1NGU5KQogICAgICAgIDsKCiAgICAgICAgCiAgICAKICAgIAogICAgICAgICAgICBwb2x5X2xpbmVfZDBlMTE0M2Y5NjUzNDNhNjgzZDI2NzQ0NGI5OGY0NTguYmluZFRvb2x0aXAoCiAgICAgICAgICAgICAgICBgPGRpdj4KICAgICAgICAgICAgICAgICAgICAgUm91dGUKICAgICAgICAgICAgICAgICA8L2Rpdj5gLAogICAgICAgICAgICAgICAgeyJzdGlja3kiOiB0cnVlfQogICAgICAgICAgICApOwogICAgICAgIAogICAgCiAgICAgICAgICAgIHZhciBwb2x5X2xpbmVfMzhlZDNkNmU1ZGUwNDM5ZmJmNmUzNmM4ZWMxYzE1NzAgPSBMLnBvbHlsaW5lKAogICAgICAgICAgICAgICAgW1sxMi45NzE2LCA3Ny41OTQ2XSwgWzEyLjI5NTgsIDc2LjYzOTRdLCBbMTkuMDc2LCA3Mi44Nzc3XSwgWzI0LjU4NTQsIDczLjcxMjVdLCBbMjYuOTEyNCwgNzUuNzg3M10sIFsyOC43MDQxLCA3Ny4xMDI1XSwgWzI3LjE3NjcsIDc4LjAwODFdLCBbMjUuMzE3NiwgODIuOTczOV1dLAogICAgICAgICAgICAgICAgeyJidWJibGluZ01vdXNlRXZlbnRzIjogdHJ1ZSwgImNvbG9yIjogImJsdWUiLCAiZGFzaEFycmF5IjogbnVsbCwgImRhc2hPZmZzZXQiOiBudWxsLCAiZmlsbCI6IGZhbHNlLCAiZmlsbENvbG9yIjogImJsdWUiLCAiZmlsbE9wYWNpdHkiOiAwLjIsICJmaWxsUnVsZSI6ICJldmVub2RkIiwgImxpbmVDYXAiOiAicm91bmQiLCAibGluZUpvaW4iOiAicm91bmQiLCAibm9DbGlwIjogZmFsc2UsICJvcGFjaXR5IjogMS4wLCAic21vb3RoRmFjdG9yIjogMS4wLCAic3Ryb2tlIjogdHJ1ZSwgIndlaWdodCI6IDJ9CiAgICAgICAgICAgICkuYWRkVG8obWFwX2IzOWVkN2RhMGM4NjRhZmQ4MmY5MGY5NjVhZDg5ZDcyKTsKICAgICAgICAKICAgIAogICAgICAgIHZhciBwb3B1cF8zZmUwMGRkODA0MjU0MTllYmM3N2FhNjUyMTMxOGZmNiA9IEwucG9wdXAoeyJtYXhXaWR0aCI6ICIxMDAlIn0pOwoKICAgICAgICAKICAgICAgICAgICAgdmFyIGh0bWxfYzAxMmQ3MmFjMzA1NGQzYTljMDk5Y2RjZjQzNzQzNTMgPSAkKGA8ZGl2IGlkPSJodG1sX2MwMTJkNzJhYzMwNTRkM2E5YzA5OWNkY2Y0Mzc0MzUzIiBzdHlsZT0id2lkdGg6IDEwMC4wJTsgaGVpZ2h0OiAxMDAuMCU7Ij48Yj5CZXN0IHBhdGg8L2I+PC9kaXY+YClbMF07CiAgICAgICAgICAgIHBvcHVwXzNmZTAwZGQ4MDQyNTQxOWViYzc3YWE2NTIxMzE4ZmY2LnNldENvbnRlbnQoaHRtbF9jMDEyZDcyYWMzMDU0ZDNhOWMwOTljZGNmNDM3NDM1Myk7CiAgICAgICAgCgogICAgICAgIHBvbHlfbGluZV8zOGVkM2Q2ZTVkZTA0MzlmYmY2ZTM2YzhlYzFjMTU3MC5iaW5kUG9wdXAocG9wdXBfM2ZlMDBkZDgwNDI1NDE5ZWJjNzdhYTY1MjEzMThmZjYpCiAgICAgICAgOwoKICAgICAgICAKICAgIAogICAgCiAgICAgICAgICAgIHBvbHlfbGluZV8zOGVkM2Q2ZTVkZTA0MzlmYmY2ZTM2YzhlYzFjMTU3MC5iaW5kVG9vbHRpcCgKICAgICAgICAgICAgICAgIGA8ZGl2PgogICAgICAgICAgICAgICAgICAgICBSb3V0ZQogICAgICAgICAgICAgICAgIDwvZGl2PmAsCiAgICAgICAgICAgICAgICB7InN0aWNreSI6IHRydWV9CiAgICAgICAgICAgICk7CiAgICAgICAgCiAgICAKICAgICAgICAgICAgdmFyIHBvbHlfbGluZV81ZGJhOTVmMzk1Njc0MGUyYmExMzNhZjY5ZTRhNWRlZiA9IEwucG9seWxpbmUoCiAgICAgICAgICAgICAgICBbWzEyLjk3MTYsIDc3LjU5NDZdLCBbMTIuMjk1OCwgNzYuNjM5NF0sIFsxOS4wNzYsIDcyLjg3NzddLCBbMjQuNTg1NCwgNzMuNzEyNV0sIFsyNi45MTI0LCA3NS43ODczXSwgWzI4LjcwNDEsIDc3LjEwMjVdLCBbMjcuMTc2NywgNzguMDA4MV0sIFsyNS4zMTc2LCA4Mi45NzM5XSwgWzIyLjU3MjYsIDg4LjM2MzldXSwKICAgICAgICAgICAgICAgIHsiYnViYmxpbmdNb3VzZUV2ZW50cyI6IHRydWUsICJjb2xvciI6ICJibHVlIiwgImRhc2hBcnJheSI6IG51bGwsICJkYXNoT2Zmc2V0IjogbnVsbCwgImZpbGwiOiBmYWxzZSwgImZpbGxDb2xvciI6ICJibHVlIiwgImZpbGxPcGFjaXR5IjogMC4yLCAiZmlsbFJ1bGUiOiAiZXZlbm9kZCIsICJsaW5lQ2FwIjogInJvdW5kIiwgImxpbmVKb2luIjogInJvdW5kIiwgIm5vQ2xpcCI6IGZhbHNlLCAib3BhY2l0eSI6IDEuMCwgInNtb290aEZhY3RvciI6IDEuMCwgInN0cm9rZSI6IHRydWUsICJ3ZWlnaHQiOiAyfQogICAgICAgICAgICApLmFkZFRvKG1hcF9iMzllZDdkYTBjODY0YWZkODJmOTBmOTY1YWQ4OWQ3Mik7CiAgICAgICAgCiAgICAKICAgICAgICB2YXIgcG9wdXBfNGYwMjJlMDkzMDdkNGVkMjg3N2RhZTg4YmM1MmVlZDUgPSBMLnBvcHVwKHsibWF4V2lkdGgiOiAiMTAwJSJ9KTsKCiAgICAgICAgCiAgICAgICAgICAgIHZhciBodG1sX2E2MjczMGVmNGFmMDQ2NmU5MWY2ODNkOGI1NDlkOGViID0gJChgPGRpdiBpZD0iaHRtbF9hNjI3MzBlZjRhZjA0NjZlOTFmNjgzZDhiNTQ5ZDhlYiIgc3R5bGU9IndpZHRoOiAxMDAuMCU7IGhlaWdodDogMTAwLjAlOyI+PGI+QmVzdCBwYXRoPC9iPjwvZGl2PmApWzBdOwogICAgICAgICAgICBwb3B1cF80ZjAyMmUwOTMwN2Q0ZWQyODc3ZGFlODhiYzUyZWVkNS5zZXRDb250ZW50KGh0bWxfYTYyNzMwZWY0YWYwNDY2ZTkxZjY4M2Q4YjU0OWQ4ZWIpOwogICAgICAgIAoKICAgICAgICBwb2x5X2xpbmVfNWRiYTk1ZjM5NTY3NDBlMmJhMTMzYWY2OWU0YTVkZWYuYmluZFBvcHVwKHBvcHVwXzRmMDIyZTA5MzA3ZDRlZDI4NzdkYWU4OGJjNTJlZWQ1KQogICAgICAgIDsKCiAgICAgICAgCiAgICAKICAgIAogICAgICAgICAgICBwb2x5X2xpbmVfNWRiYTk1ZjM5NTY3NDBlMmJhMTMzYWY2OWU0YTVkZWYuYmluZFRvb2x0aXAoCiAgICAgICAgICAgICAgICBgPGRpdj4KICAgICAgICAgICAgICAgICAgICAgUm91dGUKICAgICAgICAgICAgICAgICA8L2Rpdj5gLAogICAgICAgICAgICAgICAgeyJzdGlja3kiOiB0cnVlfQogICAgICAgICAgICApOwogICAgICAgIAogICAgCiAgICAgICAgICAgIHZhciBwb2x5X2xpbmVfNTJmMDQ5MzZmOWMzNGYxZmEwZDRmYzU2MDczNjEzYjEgPSBMLnBvbHlsaW5lKAogICAgICAgICAgICAgICAgW1sxMi45NzE2LCA3Ny41OTQ2XSwgWzEyLjI5NTgsIDc2LjYzOTRdLCBbMTkuMDc2LCA3Mi44Nzc3XSwgWzI0LjU4NTQsIDczLjcxMjVdLCBbMjYuOTEyNCwgNzUuNzg3M10sIFsyOC43MDQxLCA3Ny4xMDI1XSwgWzI3LjE3NjcsIDc4LjAwODFdLCBbMjUuMzE3NiwgODIuOTczOV0sIFsyMi41NzI2LCA4OC4zNjM5XSwgWzE3LjM4NSwgNzguNDg2N11dLAogICAgICAgICAgICAgICAgeyJidWJibGluZ01vdXNlRXZlbnRzIjogdHJ1ZSwgImNvbG9yIjogImJsdWUiLCAiZGFzaEFycmF5IjogbnVsbCwgImRhc2hPZmZzZXQiOiBudWxsLCAiZmlsbCI6IGZhbHNlLCAiZmlsbENvbG9yIjogImJsdWUiLCAiZmlsbE9wYWNpdHkiOiAwLjIsICJmaWxsUnVsZSI6ICJldmVub2RkIiwgImxpbmVDYXAiOiAicm91bmQiLCAibGluZUpvaW4iOiAicm91bmQiLCAibm9DbGlwIjogZmFsc2UsICJvcGFjaXR5IjogMS4wLCAic21vb3RoRmFjdG9yIjogMS4wLCAic3Ryb2tlIjogdHJ1ZSwgIndlaWdodCI6IDJ9CiAgICAgICAgICAgICkuYWRkVG8obWFwX2IzOWVkN2RhMGM4NjRhZmQ4MmY5MGY5NjVhZDg5ZDcyKTsKICAgICAgICAKICAgIAogICAgICAgIHZhciBwb3B1cF8xOWY1OTA1MDU5N2Q0YmU2YWEyOWI2YzA3Y2VkMjllNyA9IEwucG9wdXAoeyJtYXhXaWR0aCI6ICIxMDAlIn0pOwoKICAgICAgICAKICAgICAgICAgICAgdmFyIGh0bWxfMTUwMWY1YjQ5YzVjNDNiZWIxZjQ3ZmY3MGEwOGI2OGUgPSAkKGA8ZGl2IGlkPSJodG1sXzE1MDFmNWI0OWM1YzQzYmViMWY0N2ZmNzBhMDhiNjhlIiBzdHlsZT0id2lkdGg6IDEwMC4wJTsgaGVpZ2h0OiAxMDAuMCU7Ij48Yj5CZXN0IHBhdGg8L2I+PC9kaXY+YClbMF07CiAgICAgICAgICAgIHBvcHVwXzE5ZjU5MDUwNTk3ZDRiZTZhYTI5YjZjMDdjZWQyOWU3LnNldENvbnRlbnQoaHRtbF8xNTAxZjViNDljNWM0M2JlYjFmNDdmZjcwYTA4YjY4ZSk7CiAgICAgICAgCgogICAgICAgIHBvbHlfbGluZV81MmYwNDkzNmY5YzM0ZjFmYTBkNGZjNTYwNzM2MTNiMS5iaW5kUG9wdXAocG9wdXBfMTlmNTkwNTA1OTdkNGJlNmFhMjliNmMwN2NlZDI5ZTcpCiAgICAgICAgOwoKICAgICAgICAKICAgIAogICAgCiAgICAgICAgICAgIHBvbHlfbGluZV81MmYwNDkzNmY5YzM0ZjFmYTBkNGZjNTYwNzM2MTNiMS5iaW5kVG9vbHRpcCgKICAgICAgICAgICAgICAgIGA8ZGl2PgogICAgICAgICAgICAgICAgICAgICBSb3V0ZQogICAgICAgICAgICAgICAgIDwvZGl2PmAsCiAgICAgICAgICAgICAgICB7InN0aWNreSI6IHRydWV9CiAgICAgICAgICAgICk7CiAgICAgICAgCiAgICAKICAgICAgICAgICAgdmFyIHBvbHlfbGluZV9jOGE2YjdiYjY4ZmE0YTNmOGFiNGZiODAzNDAzNWY1YSA9IEwucG9seWxpbmUoCiAgICAgICAgICAgICAgICBbWzEyLjk3MTYsIDc3LjU5NDZdLCBbMTIuMjk1OCwgNzYuNjM5NF0sIFsxOS4wNzYsIDcyLjg3NzddLCBbMjQuNTg1NCwgNzMuNzEyNV0sIFsyNi45MTI0LCA3NS43ODczXSwgWzI4LjcwNDEsIDc3LjEwMjVdLCBbMjcuMTc2NywgNzguMDA4MV0sIFsyNS4zMTc2LCA4Mi45NzM5XSwgWzIyLjU3MjYsIDg4LjM2MzldLCBbMTcuMzg1LCA3OC40ODY3XSwgWzEzLjA4MjcsIDgwLjI3MDddXSwKICAgICAgICAgICAgICAgIHsiYnViYmxpbmdNb3VzZUV2ZW50cyI6IHRydWUsICJjb2xvciI6ICJibHVlIiwgImRhc2hBcnJheSI6IG51bGwsICJkYXNoT2Zmc2V0IjogbnVsbCwgImZpbGwiOiBmYWxzZSwgImZpbGxDb2xvciI6ICJibHVlIiwgImZpbGxPcGFjaXR5IjogMC4yLCAiZmlsbFJ1bGUiOiAiZXZlbm9kZCIsICJsaW5lQ2FwIjogInJvdW5kIiwgImxpbmVKb2luIjogInJvdW5kIiwgIm5vQ2xpcCI6IGZhbHNlLCAib3BhY2l0eSI6IDEuMCwgInNtb290aEZhY3RvciI6IDEuMCwgInN0cm9rZSI6IHRydWUsICJ3ZWlnaHQiOiAyfQogICAgICAgICAgICApLmFkZFRvKG1hcF9iMzllZDdkYTBjODY0YWZkODJmOTBmOTY1YWQ4OWQ3Mik7CiAgICAgICAgCiAgICAKICAgICAgICB2YXIgcG9wdXBfOTZhMTk1MTM5NWRiNDY1MmI1NDhiOWNkYWQzNDgxYjAgPSBMLnBvcHVwKHsibWF4V2lkdGgiOiAiMTAwJSJ9KTsKCiAgICAgICAgCiAgICAgICAgICAgIHZhciBodG1sXzQ3ODk5NDE3YTI5ZDRhODBiMzZhZGQ3ZjUwOGMyMzkyID0gJChgPGRpdiBpZD0iaHRtbF80Nzg5OTQxN2EyOWQ0YTgwYjM2YWRkN2Y1MDhjMjM5MiIgc3R5bGU9IndpZHRoOiAxMDAuMCU7IGhlaWdodDogMTAwLjAlOyI+PGI+QmVzdCBwYXRoPC9iPjwvZGl2PmApWzBdOwogICAgICAgICAgICBwb3B1cF85NmExOTUxMzk1ZGI0NjUyYjU0OGI5Y2RhZDM0ODFiMC5zZXRDb250ZW50KGh0bWxfNDc4OTk0MTdhMjlkNGE4MGIzNmFkZDdmNTA4YzIzOTIpOwogICAgICAgIAoKICAgICAgICBwb2x5X2xpbmVfYzhhNmI3YmI2OGZhNGEzZjhhYjRmYjgwMzQwMzVmNWEuYmluZFBvcHVwKHBvcHVwXzk2YTE5NTEzOTVkYjQ2NTJiNTQ4YjljZGFkMzQ4MWIwKQogICAgICAgIDsKCiAgICAgICAgCiAgICAKICAgIAogICAgICAgICAgICBwb2x5X2xpbmVfYzhhNmI3YmI2OGZhNGEzZjhhYjRmYjgwMzQwMzVmNWEuYmluZFRvb2x0aXAoCiAgICAgICAgICAgICAgICBgPGRpdj4KICAgICAgICAgICAgICAgICAgICAgUm91dGUKICAgICAgICAgICAgICAgICA8L2Rpdj5gLAogICAgICAgICAgICAgICAgeyJzdGlja3kiOiB0cnVlfQogICAgICAgICAgICApOwogICAgICAgIAogICAgCiAgICAgICAgICAgIHZhciBwb2x5X2xpbmVfMmUzYTExYzQ1ZTk2NGFhN2E5NTAwZDc5YmZhMzg2ZTQgPSBMLnBvbHlsaW5lKAogICAgICAgICAgICAgICAgW1sxMi45NzE2LCA3Ny41OTQ2XSwgWzEyLjI5NTgsIDc2LjYzOTRdLCBbMTkuMDc2LCA3Mi44Nzc3XSwgWzI0LjU4NTQsIDczLjcxMjVdLCBbMjYuOTEyNCwgNzUuNzg3M10sIFsyOC43MDQxLCA3Ny4xMDI1XSwgWzI3LjE3NjcsIDc4LjAwODFdLCBbMjUuMzE3NiwgODIuOTczOV0sIFsyMi41NzI2LCA4OC4zNjM5XSwgWzE3LjM4NSwgNzguNDg2N10sIFsxMy4wODI3LCA4MC4yNzA3XSwgWzEyLjk3MTYsIDc3LjU5NDZdXSwKICAgICAgICAgICAgICAgIHsiYnViYmxpbmdNb3VzZUV2ZW50cyI6IHRydWUsICJjb2xvciI6ICJibHVlIiwgImRhc2hBcnJheSI6IG51bGwsICJkYXNoT2Zmc2V0IjogbnVsbCwgImZpbGwiOiBmYWxzZSwgImZpbGxDb2xvciI6ICJibHVlIiwgImZpbGxPcGFjaXR5IjogMC4yLCAiZmlsbFJ1bGUiOiAiZXZlbm9kZCIsICJsaW5lQ2FwIjogInJvdW5kIiwgImxpbmVKb2luIjogInJvdW5kIiwgIm5vQ2xpcCI6IGZhbHNlLCAib3BhY2l0eSI6IDEuMCwgInNtb290aEZhY3RvciI6IDEuMCwgInN0cm9rZSI6IHRydWUsICJ3ZWlnaHQiOiAyfQogICAgICAgICAgICApLmFkZFRvKG1hcF9iMzllZDdkYTBjODY0YWZkODJmOTBmOTY1YWQ4OWQ3Mik7CiAgICAgICAgCiAgICAKICAgICAgICB2YXIgcG9wdXBfOTIxZDk2MGVjOWYxNDFmNjkwMWEyM2UzNmQ0ZTNhMzAgPSBMLnBvcHVwKHsibWF4V2lkdGgiOiAiMTAwJSJ9KTsKCiAgICAgICAgCiAgICAgICAgICAgIHZhciBodG1sXzFhZDFkMWMzMTIwMjQwNGI5YTNiMWUxMWQ4MmIzMmY1ID0gJChgPGRpdiBpZD0iaHRtbF8xYWQxZDFjMzEyMDI0MDRiOWEzYjFlMTFkODJiMzJmNSIgc3R5bGU9IndpZHRoOiAxMDAuMCU7IGhlaWdodDogMTAwLjAlOyI+PGI+QmVzdCBwYXRoPC9iPjwvZGl2PmApWzBdOwogICAgICAgICAgICBwb3B1cF85MjFkOTYwZWM5ZjE0MWY2OTAxYTIzZTM2ZDRlM2EzMC5zZXRDb250ZW50KGh0bWxfMWFkMWQxYzMxMjAyNDA0YjlhM2IxZTExZDgyYjMyZjUpOwogICAgICAgIAoKICAgICAgICBwb2x5X2xpbmVfMmUzYTExYzQ1ZTk2NGFhN2E5NTAwZDc5YmZhMzg2ZTQuYmluZFBvcHVwKHBvcHVwXzkyMWQ5NjBlYzlmMTQxZjY5MDFhMjNlMzZkNGUzYTMwKQogICAgICAgIDsKCiAgICAgICAgCiAgICAKICAgIAogICAgICAgICAgICBwb2x5X2xpbmVfMmUzYTExYzQ1ZTk2NGFhN2E5NTAwZDc5YmZhMzg2ZTQuYmluZFRvb2x0aXAoCiAgICAgICAgICAgICAgICBgPGRpdj4KICAgICAgICAgICAgICAgICAgICAgUm91dGUKICAgICAgICAgICAgICAgICA8L2Rpdj5gLAogICAgICAgICAgICAgICAgeyJzdGlja3kiOiB0cnVlfQogICAgICAgICAgICApOwogICAgICAgIAo8L3NjcmlwdD4= onload=\"this.contentDocument.open();this.contentDocument.write(atob(this.getAttribute('data-html')));this.contentDocument.close();\" \"allowfullscreen\" \"webkitallowfullscreen\" \"mozallowfullscreen\"></iframe>"
      ],
      "text/plain": [
       "<folium.folium.Map at 0x20646794518>"
      ]
     },
     "execution_count": 10,
     "metadata": {},
     "output_type": "execute_result"
    }
   ],
   "source": [
    "# Adding the starting point i.e bangalore in this case\n",
    "final_route = [0]\n",
    "final_route.extend(best_sol[0][\"Route\"].values[0])\n",
    "final_route.append(0)\n",
    "\n",
    "# creating a lisot with naplot_objectes\n",
    "final_route_naplot_objectes = []\n",
    "for i in final_route:\n",
    "    final_route_naplot_objectes.append(data1.index[i])\n",
    "\n",
    "lat_lon = pd.read_csv(\"./data/city_lat_lon.csv\")\n",
    "\n",
    "\n",
    "fig=Figure(height=1000,width=750)\n",
    "plot_object=folium.Map(location=[12.9716, 77.5946],tiles='cartodbpositron',zoom_start=5)\n",
    "fig.add_child(plot_object)\n",
    "\n",
    "coordinates = []\n",
    "for i in final_route_naplot_objectes:\n",
    "    lat,lon = lat_lon[lat_lon.City == i][\"Lat\"].values[0],lat_lon[lat_lon.City == i][\"Lon\"].values[0]\n",
    "    folio_group_object = folium.FeatureGroup(\"Route\")\n",
    "    coordinates.append([lat,lon])\n",
    "    line_1=folium.vector_layers.PolyLine(coordinates,popup='<b>Best path</b>',tooltip='Route',color='blue',\n",
    "                                         weight=2).add_to(folio_group_object)\n",
    "    line_1.add_to(plot_object)\n",
    "plot_object"
   ]
  },
  {
   "cell_type": "code",
   "execution_count": null,
   "metadata": {},
   "outputs": [],
   "source": []
  }
 ],
 "metadata": {
  "kernelspec": {
   "display_name": "Python 3.7.3 64-bit ('base': conda)",
   "language": "python",
   "name": "python37364bitbaseconda575ea1dc3e254895a21583e6ba8ae572"
  },
  "language_info": {
   "codemirror_mode": {
    "name": "ipython",
    "version": 3
   },
   "file_extension": ".py",
   "mimetype": "text/x-python",
   "name": "python",
   "nbconvert_exporter": "python",
   "pygments_lexer": "ipython3",
   "version": "3.7.3"
  },
  "toc": {
   "base_numbering": 1,
   "nav_menu": {},
   "number_sections": true,
   "sideBar": false,
   "skip_h1_title": true,
   "title_cell": "Table of Contents",
   "title_sidebar": "Contents",
   "toc_cell": true,
   "toc_position": {},
   "toc_section_display": true,
   "toc_window_display": false
  }
 },
 "nbformat": 4,
 "nbformat_minor": 2
}
