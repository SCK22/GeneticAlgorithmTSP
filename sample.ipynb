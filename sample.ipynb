{
 "cells": [
  {
   "cell_type": "markdown",
   "metadata": {
    "toc": true
   },
   "source": [
    "<h1>Table of Contents<span class=\"tocSkip\"></span></h1>\n",
    "<div class=\"toc\"><ul class=\"toc-item\"><li><span><a href=\"#Load-distances-data\" data-toc-modified-id=\"Load-distances-data-1\"><span class=\"toc-item-num\">1&nbsp;&nbsp;</span>Load distances data</a></span></li><li><span><a href=\"#Create-a-GeneticAlgorithmTSP-object\" data-toc-modified-id=\"Create-a-GeneticAlgorithmTSP-object-2\"><span class=\"toc-item-num\">2&nbsp;&nbsp;</span>Create a GeneticAlgorithmTSP object</a></span><ul class=\"toc-item\"><li><span><a href=\"#Run-the-GA\" data-toc-modified-id=\"Run-the-GA-2.1\"><span class=\"toc-item-num\">2.1&nbsp;&nbsp;</span>Run the GA</a></span></li></ul></li><li><span><a href=\"#Generate-a-plot-for-the-best-solution\" data-toc-modified-id=\"Generate-a-plot-for-the-best-solution-3\"><span class=\"toc-item-num\">3&nbsp;&nbsp;</span>Generate a plot for the best solution</a></span></li></ul></div>"
   ]
  },
  {
   "cell_type": "code",
   "execution_count": 1,
   "metadata": {},
   "outputs": [
    {
     "name": "stderr",
     "output_type": "stream",
     "text": [
      "2021-05-02 00:48:33,890\tINFO services.py:1174 -- View the Ray dashboard at http://127.0.0.1:8265\n"
     ]
    }
   ],
   "source": [
    "import os\n",
    "import folium\n",
    "from branca.element import Figure\n",
    "import pandas as pd\n",
    "import GeneticAlgoLibrary"
   ]
  },
  {
   "cell_type": "markdown",
   "metadata": {},
   "source": [
    "## Load distances data"
   ]
  },
  {
   "cell_type": "code",
   "execution_count": 2,
   "metadata": {},
   "outputs": [
    {
     "data": {
      "text/html": [
       "<div>\n",
       "<style scoped>\n",
       "    .dataframe tbody tr th:only-of-type {\n",
       "        vertical-align: middle;\n",
       "    }\n",
       "\n",
       "    .dataframe tbody tr th {\n",
       "        vertical-align: top;\n",
       "    }\n",
       "\n",
       "    .dataframe thead th {\n",
       "        text-align: right;\n",
       "    }\n",
       "</style>\n",
       "<table border=\"1\" class=\"dataframe\">\n",
       "  <thead>\n",
       "    <tr style=\"text-align: right;\">\n",
       "      <th></th>\n",
       "      <th>Bangalore</th>\n",
       "      <th>Jaipur</th>\n",
       "      <th>Varanasi</th>\n",
       "      <th>Udaipur</th>\n",
       "      <th>Delhi</th>\n",
       "      <th>Chennai</th>\n",
       "      <th>Mysore</th>\n",
       "      <th>Agra</th>\n",
       "      <th>Kolkata</th>\n",
       "      <th>Mumbai</th>\n",
       "      <th>Hyderabad</th>\n",
       "    </tr>\n",
       "  </thead>\n",
       "  <tbody>\n",
       "    <tr>\n",
       "      <th>Bangalore</th>\n",
       "      <td>0</td>\n",
       "      <td>2026</td>\n",
       "      <td>1825</td>\n",
       "      <td>1724</td>\n",
       "      <td>2166</td>\n",
       "      <td>346</td>\n",
       "      <td>149</td>\n",
       "      <td>1923</td>\n",
       "      <td>1862</td>\n",
       "      <td>980</td>\n",
       "      <td>569</td>\n",
       "    </tr>\n",
       "    <tr>\n",
       "      <th>Jaipur</th>\n",
       "      <td>2026</td>\n",
       "      <td>0</td>\n",
       "      <td>849</td>\n",
       "      <td>393</td>\n",
       "      <td>287</td>\n",
       "      <td>2108</td>\n",
       "      <td>2121</td>\n",
       "      <td>240</td>\n",
       "      <td>1520</td>\n",
       "      <td>1146</td>\n",
       "      <td>1483</td>\n",
       "    </tr>\n",
       "    <tr>\n",
       "      <th>Varanasi</th>\n",
       "      <td>1825</td>\n",
       "      <td>849</td>\n",
       "      <td>0</td>\n",
       "      <td>1154</td>\n",
       "      <td>834</td>\n",
       "      <td>1862</td>\n",
       "      <td>1976</td>\n",
       "      <td>614</td>\n",
       "      <td>683</td>\n",
       "      <td>1524</td>\n",
       "      <td>1237</td>\n",
       "    </tr>\n",
       "    <tr>\n",
       "      <th>Udaipur</th>\n",
       "      <td>1724</td>\n",
       "      <td>393</td>\n",
       "      <td>1154</td>\n",
       "      <td>0</td>\n",
       "      <td>661</td>\n",
       "      <td>2077</td>\n",
       "      <td>1809</td>\n",
       "      <td>634</td>\n",
       "      <td>1825</td>\n",
       "      <td>753</td>\n",
       "      <td>1349</td>\n",
       "    </tr>\n",
       "    <tr>\n",
       "      <th>Delhi</th>\n",
       "      <td>2166</td>\n",
       "      <td>287</td>\n",
       "      <td>834</td>\n",
       "      <td>661</td>\n",
       "      <td>0</td>\n",
       "      <td>2203</td>\n",
       "      <td>2317</td>\n",
       "      <td>233</td>\n",
       "      <td>1498</td>\n",
       "      <td>1415</td>\n",
       "      <td>1578</td>\n",
       "    </tr>\n",
       "    <tr>\n",
       "      <th>Chennai</th>\n",
       "      <td>346</td>\n",
       "      <td>2108</td>\n",
       "      <td>1862</td>\n",
       "      <td>2077</td>\n",
       "      <td>2203</td>\n",
       "      <td>0</td>\n",
       "      <td>482</td>\n",
       "      <td>1957</td>\n",
       "      <td>1669</td>\n",
       "      <td>1345</td>\n",
       "      <td>627</td>\n",
       "    </tr>\n",
       "    <tr>\n",
       "      <th>Mysore</th>\n",
       "      <td>149</td>\n",
       "      <td>2121</td>\n",
       "      <td>1976</td>\n",
       "      <td>1809</td>\n",
       "      <td>2317</td>\n",
       "      <td>482</td>\n",
       "      <td>0</td>\n",
       "      <td>2072</td>\n",
       "      <td>2012</td>\n",
       "      <td>1064</td>\n",
       "      <td>718</td>\n",
       "    </tr>\n",
       "    <tr>\n",
       "      <th>Agra</th>\n",
       "      <td>1923</td>\n",
       "      <td>240</td>\n",
       "      <td>614</td>\n",
       "      <td>634</td>\n",
       "      <td>233</td>\n",
       "      <td>1957</td>\n",
       "      <td>2072</td>\n",
       "      <td>0</td>\n",
       "      <td>1280</td>\n",
       "      <td>1323</td>\n",
       "      <td>1334</td>\n",
       "    </tr>\n",
       "    <tr>\n",
       "      <th>Kolkata</th>\n",
       "      <td>1862</td>\n",
       "      <td>1520</td>\n",
       "      <td>683</td>\n",
       "      <td>1825</td>\n",
       "      <td>1498</td>\n",
       "      <td>1669</td>\n",
       "      <td>2012</td>\n",
       "      <td>1280</td>\n",
       "      <td>0</td>\n",
       "      <td>2053</td>\n",
       "      <td>1493</td>\n",
       "    </tr>\n",
       "    <tr>\n",
       "      <th>Mumbai</th>\n",
       "      <td>980</td>\n",
       "      <td>1146</td>\n",
       "      <td>1524</td>\n",
       "      <td>753</td>\n",
       "      <td>1415</td>\n",
       "      <td>1345</td>\n",
       "      <td>1064</td>\n",
       "      <td>1323</td>\n",
       "      <td>2053</td>\n",
       "      <td>0</td>\n",
       "      <td>711</td>\n",
       "    </tr>\n",
       "    <tr>\n",
       "      <th>Hyderabad</th>\n",
       "      <td>569</td>\n",
       "      <td>1483</td>\n",
       "      <td>1237</td>\n",
       "      <td>1349</td>\n",
       "      <td>1578</td>\n",
       "      <td>627</td>\n",
       "      <td>718</td>\n",
       "      <td>1334</td>\n",
       "      <td>1493</td>\n",
       "      <td>711</td>\n",
       "      <td>0</td>\n",
       "    </tr>\n",
       "  </tbody>\n",
       "</table>\n",
       "</div>"
      ],
      "text/plain": [
       "           Bangalore  Jaipur  Varanasi  Udaipur  Delhi  Chennai  Mysore  Agra  \\\n",
       "Bangalore          0    2026      1825     1724   2166      346     149  1923   \n",
       "Jaipur          2026       0       849      393    287     2108    2121   240   \n",
       "Varanasi        1825     849         0     1154    834     1862    1976   614   \n",
       "Udaipur         1724     393      1154        0    661     2077    1809   634   \n",
       "Delhi           2166     287       834      661      0     2203    2317   233   \n",
       "Chennai          346    2108      1862     2077   2203        0     482  1957   \n",
       "Mysore           149    2121      1976     1809   2317      482       0  2072   \n",
       "Agra            1923     240       614      634    233     1957    2072     0   \n",
       "Kolkata         1862    1520       683     1825   1498     1669    2012  1280   \n",
       "Mumbai           980    1146      1524      753   1415     1345    1064  1323   \n",
       "Hyderabad        569    1483      1237     1349   1578      627     718  1334   \n",
       "\n",
       "           Kolkata  Mumbai  Hyderabad  \n",
       "Bangalore     1862     980        569  \n",
       "Jaipur        1520    1146       1483  \n",
       "Varanasi       683    1524       1237  \n",
       "Udaipur       1825     753       1349  \n",
       "Delhi         1498    1415       1578  \n",
       "Chennai       1669    1345        627  \n",
       "Mysore        2012    1064        718  \n",
       "Agra          1280    1323       1334  \n",
       "Kolkata          0    2053       1493  \n",
       "Mumbai        2053       0        711  \n",
       "Hyderabad     1493     711          0  "
      ]
     },
     "execution_count": 2,
     "metadata": {},
     "output_type": "execute_result"
    }
   ],
   "source": [
    "data = pd.read_csv(\"./data/cities_and_distances.csv\")\n",
    "data.reset_index(inplace=True)\n",
    "data1 = data.iloc[:,2:]\n",
    "data1.index = data1.columns.values\n",
    "data1"
   ]
  },
  {
   "cell_type": "markdown",
   "metadata": {},
   "source": [
    "## Create a GeneticAlgorithmTSP object"
   ]
  },
  {
   "cell_type": "code",
   "execution_count": 3,
   "metadata": {},
   "outputs": [],
   "source": [
    "ga_obj =  GeneticAlgoLibrary.GeneticAlgorithmTSP(number_of_cities=11,\n",
    "                             initial_pop_size=10,\n",
    "                             nelite=5,\n",
    "                             percentage_to_crossover=30,\n",
    "                             percentage_to_mutate=20,\n",
    "                             dist_mat=data1)"
   ]
  },
  {
   "cell_type": "code",
   "execution_count": 4,
   "metadata": {},
   "outputs": [
    {
     "name": "stderr",
     "output_type": "stream",
     "text": [
      "(pid=19324) 2021-05-02 00:48:49,095\tINFO worker.py:665 -- Calling ray.init() again after it has already been called.\n",
      "(pid=19032) 2021-05-02 00:48:49,143\tINFO worker.py:665 -- Calling ray.init() again after it has already been called.\n",
      "(pid=17720) 2021-05-02 00:48:49,143\tINFO worker.py:665 -- Calling ray.init() again after it has already been called.\n",
      "(pid=348) 2021-05-02 00:48:49,135\tINFO worker.py:665 -- Calling ray.init() again after it has already been called.\n"
     ]
    },
    {
     "data": {
      "text/html": [
       "<div>\n",
       "<style scoped>\n",
       "    .dataframe tbody tr th:only-of-type {\n",
       "        vertical-align: middle;\n",
       "    }\n",
       "\n",
       "    .dataframe tbody tr th {\n",
       "        vertical-align: top;\n",
       "    }\n",
       "\n",
       "    .dataframe thead th {\n",
       "        text-align: right;\n",
       "    }\n",
       "</style>\n",
       "<table border=\"1\" class=\"dataframe\">\n",
       "  <thead>\n",
       "    <tr style=\"text-align: right;\">\n",
       "      <th></th>\n",
       "      <th>Route</th>\n",
       "      <th>Cost</th>\n",
       "    </tr>\n",
       "  </thead>\n",
       "  <tbody>\n",
       "    <tr>\n",
       "      <th>0</th>\n",
       "      <td>[6, 10, 3, 1, 4, 7, 9, 8, 5, 2]</td>\n",
       "      <td>11861</td>\n",
       "    </tr>\n",
       "    <tr>\n",
       "      <th>8</th>\n",
       "      <td>[4, 2, 1, 7, 9, 3, 5, 10, 8, 6]</td>\n",
       "      <td>12523</td>\n",
       "    </tr>\n",
       "    <tr>\n",
       "      <th>9</th>\n",
       "      <td>[1, 8, 3, 10, 5, 4, 7, 2, 9, 6]</td>\n",
       "      <td>13134</td>\n",
       "    </tr>\n",
       "    <tr>\n",
       "      <th>2</th>\n",
       "      <td>[4, 9, 1, 3, 5, 2, 8, 7, 10, 6]</td>\n",
       "      <td>13223</td>\n",
       "    </tr>\n",
       "    <tr>\n",
       "      <th>3</th>\n",
       "      <td>[9, 3, 6, 10, 8, 7, 5, 2, 1, 4]</td>\n",
       "      <td>14154</td>\n",
       "    </tr>\n",
       "    <tr>\n",
       "      <th>1</th>\n",
       "      <td>[10, 1, 8, 9, 7, 3, 4, 5, 2, 6]</td>\n",
       "      <td>14433</td>\n",
       "    </tr>\n",
       "    <tr>\n",
       "      <th>7</th>\n",
       "      <td>[2, 7, 10, 4, 9, 3, 6, 5, 8, 1]</td>\n",
       "      <td>15025</td>\n",
       "    </tr>\n",
       "    <tr>\n",
       "      <th>5</th>\n",
       "      <td>[6, 3, 7, 8, 10, 4, 9, 2, 5, 1]</td>\n",
       "      <td>15878</td>\n",
       "    </tr>\n",
       "    <tr>\n",
       "      <th>6</th>\n",
       "      <td>[7, 9, 2, 3, 4, 5, 8, 6, 10, 1]</td>\n",
       "      <td>16696</td>\n",
       "    </tr>\n",
       "    <tr>\n",
       "      <th>4</th>\n",
       "      <td>[1, 6, 8, 10, 7, 9, 3, 5, 2, 4]</td>\n",
       "      <td>18001</td>\n",
       "    </tr>\n",
       "  </tbody>\n",
       "</table>\n",
       "</div>"
      ],
      "text/plain": [
       "                             Route   Cost\n",
       "0  [6, 10, 3, 1, 4, 7, 9, 8, 5, 2]  11861\n",
       "8  [4, 2, 1, 7, 9, 3, 5, 10, 8, 6]  12523\n",
       "9  [1, 8, 3, 10, 5, 4, 7, 2, 9, 6]  13134\n",
       "2  [4, 9, 1, 3, 5, 2, 8, 7, 10, 6]  13223\n",
       "3  [9, 3, 6, 10, 8, 7, 5, 2, 1, 4]  14154\n",
       "1  [10, 1, 8, 9, 7, 3, 4, 5, 2, 6]  14433\n",
       "7  [2, 7, 10, 4, 9, 3, 6, 5, 8, 1]  15025\n",
       "5  [6, 3, 7, 8, 10, 4, 9, 2, 5, 1]  15878\n",
       "6  [7, 9, 2, 3, 4, 5, 8, 6, 10, 1]  16696\n",
       "4  [1, 6, 8, 10, 7, 9, 3, 5, 2, 4]  18001"
      ]
     },
     "execution_count": 4,
     "metadata": {},
     "output_type": "execute_result"
    }
   ],
   "source": [
    "ga_obj.initial_pop_cost()"
   ]
  },
  {
   "cell_type": "code",
   "execution_count": 5,
   "metadata": {},
   "outputs": [
    {
     "data": {
      "text/html": [
       "<div>\n",
       "<style scoped>\n",
       "    .dataframe tbody tr th:only-of-type {\n",
       "        vertical-align: middle;\n",
       "    }\n",
       "\n",
       "    .dataframe tbody tr th {\n",
       "        vertical-align: top;\n",
       "    }\n",
       "\n",
       "    .dataframe thead th {\n",
       "        text-align: right;\n",
       "    }\n",
       "</style>\n",
       "<table border=\"1\" class=\"dataframe\">\n",
       "  <thead>\n",
       "    <tr style=\"text-align: right;\">\n",
       "      <th></th>\n",
       "      <th>Route</th>\n",
       "      <th>Cost</th>\n",
       "    </tr>\n",
       "  </thead>\n",
       "  <tbody>\n",
       "    <tr>\n",
       "      <th>0</th>\n",
       "      <td>[6, 10, 3, 1, 4, 7, 9, 8, 5, 2]</td>\n",
       "      <td>11861</td>\n",
       "    </tr>\n",
       "    <tr>\n",
       "      <th>8</th>\n",
       "      <td>[4, 2, 1, 7, 9, 3, 5, 10, 8, 6]</td>\n",
       "      <td>12523</td>\n",
       "    </tr>\n",
       "    <tr>\n",
       "      <th>9</th>\n",
       "      <td>[1, 8, 3, 10, 5, 4, 7, 2, 9, 6]</td>\n",
       "      <td>13134</td>\n",
       "    </tr>\n",
       "    <tr>\n",
       "      <th>2</th>\n",
       "      <td>[4, 9, 1, 3, 5, 2, 8, 7, 10, 6]</td>\n",
       "      <td>13223</td>\n",
       "    </tr>\n",
       "    <tr>\n",
       "      <th>3</th>\n",
       "      <td>[9, 3, 6, 10, 8, 7, 5, 2, 1, 4]</td>\n",
       "      <td>14154</td>\n",
       "    </tr>\n",
       "  </tbody>\n",
       "</table>\n",
       "</div>"
      ],
      "text/plain": [
       "                             Route   Cost\n",
       "0  [6, 10, 3, 1, 4, 7, 9, 8, 5, 2]  11861\n",
       "8  [4, 2, 1, 7, 9, 3, 5, 10, 8, 6]  12523\n",
       "9  [1, 8, 3, 10, 5, 4, 7, 2, 9, 6]  13134\n",
       "2  [4, 9, 1, 3, 5, 2, 8, 7, 10, 6]  13223\n",
       "3  [9, 3, 6, 10, 8, 7, 5, 2, 1, 4]  14154"
      ]
     },
     "execution_count": 5,
     "metadata": {},
     "output_type": "execute_result"
    }
   ],
   "source": [
    "ga_obj.the_elite_few()"
   ]
  },
  {
   "cell_type": "code",
   "execution_count": 6,
   "metadata": {},
   "outputs": [
    {
     "name": "stderr",
     "output_type": "stream",
     "text": [
      "Mutation: 100%|█████████████████████████████████████████████████████████████████████████████████████| 5/5 [00:00<?, ?it/s]\n"
     ]
    },
    {
     "data": {
      "text/html": [
       "<div>\n",
       "<style scoped>\n",
       "    .dataframe tbody tr th:only-of-type {\n",
       "        vertical-align: middle;\n",
       "    }\n",
       "\n",
       "    .dataframe tbody tr th {\n",
       "        vertical-align: top;\n",
       "    }\n",
       "\n",
       "    .dataframe thead th {\n",
       "        text-align: right;\n",
       "    }\n",
       "</style>\n",
       "<table border=\"1\" class=\"dataframe\">\n",
       "  <thead>\n",
       "    <tr style=\"text-align: right;\">\n",
       "      <th></th>\n",
       "      <th>Route</th>\n",
       "      <th>Cost</th>\n",
       "    </tr>\n",
       "  </thead>\n",
       "  <tbody>\n",
       "    <tr>\n",
       "      <th>0</th>\n",
       "      <td>[8, 5, 2, 6, 10, 3, 1, 4, 7, 9]</td>\n",
       "      <td>12652</td>\n",
       "    </tr>\n",
       "    <tr>\n",
       "      <th>1</th>\n",
       "      <td>[2, 1, 7, 9, 3, 5, 10, 8, 6, 4]</td>\n",
       "      <td>15682</td>\n",
       "    </tr>\n",
       "    <tr>\n",
       "      <th>2</th>\n",
       "      <td>[7, 2, 9, 6, 1, 8, 3, 10, 5, 4]</td>\n",
       "      <td>16936</td>\n",
       "    </tr>\n",
       "    <tr>\n",
       "      <th>3</th>\n",
       "      <td>[6, 4, 9, 1, 3, 5, 2, 8, 7, 10]</td>\n",
       "      <td>13225</td>\n",
       "    </tr>\n",
       "    <tr>\n",
       "      <th>4</th>\n",
       "      <td>[6, 10, 8, 7, 5, 2, 1, 4, 9, 3]</td>\n",
       "      <td>12487</td>\n",
       "    </tr>\n",
       "  </tbody>\n",
       "</table>\n",
       "</div>"
      ],
      "text/plain": [
       "                             Route   Cost\n",
       "0  [8, 5, 2, 6, 10, 3, 1, 4, 7, 9]  12652\n",
       "1  [2, 1, 7, 9, 3, 5, 10, 8, 6, 4]  15682\n",
       "2  [7, 2, 9, 6, 1, 8, 3, 10, 5, 4]  16936\n",
       "3  [6, 4, 9, 1, 3, 5, 2, 8, 7, 10]  13225\n",
       "4  [6, 10, 8, 7, 5, 2, 1, 4, 9, 3]  12487"
      ]
     },
     "execution_count": 6,
     "metadata": {},
     "output_type": "execute_result"
    }
   ],
   "source": [
    "ga_obj.mutation_function(ga_obj.the_elite_few())"
   ]
  },
  {
   "cell_type": "code",
   "execution_count": 11,
   "metadata": {},
   "outputs": [
    {
     "data": {
      "text/plain": [
       "[10, 3, 1, 4, 7, 9, 8, 5, 2, 6]"
      ]
     },
     "execution_count": 11,
     "metadata": {},
     "output_type": "execute_result"
    }
   ],
   "source": [
    "ga_obj.get_mutated_path([8, 5, 2, 6, 10, 3, 1, 4, 7, 9],4)"
   ]
  },
  {
   "cell_type": "markdown",
   "metadata": {},
   "source": [
    "### Run the GA"
   ]
  },
  {
   "cell_type": "code",
   "execution_count": 7,
   "metadata": {},
   "outputs": [],
   "source": [
    "# ga_obj = GeneticAlgoLibrary.OverallGaRun(noverall=1,\n",
    "#                                      number_of_cities=11,\n",
    "#                                      initial_pop_size=1000,\n",
    "#                                      nelite=10,\n",
    "#                                      percentage_to_crossover=20,\n",
    "#                                      percentage_to_mutate=20,\n",
    "#                                      dist_mat=data1)"
   ]
  },
  {
   "cell_type": "code",
   "execution_count": 8,
   "metadata": {},
   "outputs": [
    {
     "name": "stderr",
     "output_type": "stream",
     "text": [
      "Cities Mapping: 100%|█████████████████████████████████████████████████████████████████████████████| 11/11 [00:00<?, ?it/s]\n"
     ]
    },
    {
     "name": "stdout",
     "output_type": "stream",
     "text": [
      "Starting 10 iterations of the GA\n"
     ]
    },
    {
     "name": "stderr",
     "output_type": "stream",
     "text": [
      "Crossover: 100%|████████████████████████████████████████████████████████████████████████████| 3/3 [00:00<00:00, 68.94it/s]\n",
      "Crossover: 100%|████████████████████████████████████████████████████████████████████████████████████| 3/3 [00:00<?, ?it/s]\n",
      "Crossover: 100%|███████████████████████████████████████████████████████████████████████████| 3/3 [00:00<00:00, 192.06it/s]\n",
      "Crossover: 100%|███████████████████████████████████████████████████████████████████████████| 3/3 [00:00<00:00, 171.19it/s]\n",
      "Crossover: 100%|███████████████████████████████████████████████████████████████████████████| 3/3 [00:00<00:00, 177.79it/s]\n",
      "Crossover: 100%|███████████████████████████████████████████████████████████████████████████| 3/3 [00:00<00:00, 458.04it/s]\n",
      "Crossover: 100%|████████████████████████████████████████████████████████████████████████████████████| 3/3 [00:00<?, ?it/s]\n",
      "Crossover: 100%|███████████████████████████████████████████████████████████████████████████| 3/3 [00:00<00:00, 192.08it/s]\n",
      "Crossover: 100%|████████████████████████████████████████████████████████████████████████████████████| 3/3 [00:00<?, ?it/s]\n",
      "Crossover: 100%|████████████████████████████████████████████████████████████████████████████████████| 3/3 [00:00<?, ?it/s]\n"
     ]
    },
    {
     "name": "stdout",
     "output_type": "stream",
     "text": [
      "-----------------------------------------------------------------\n",
      "Best solution for initial population size of 10000 and number \n",
      "            of runs 10 is \n",
      "                              Route  Cost\n",
      "1  [5, 10, 6, 9, 3, 1, 4, 7, 2, 8]  7580\n",
      "Generated 20(0.001%) of the 3628800 solutions\n",
      "Total distance travelled to cover the final route of \n",
      " Bangalore => Chennai => Hyderabad => Mysore => Mumbai => Udaipur => Jaipur => Delhi => Agra => Varanasi => Kolkata => Bangalore is 7580 KM.\n",
      "             (Generated from initial population size of 10000)\n",
      "-----------------------------------------------------------------\n"
     ]
    },
    {
     "name": "stderr",
     "output_type": "stream",
     "text": [
      "Cities Mapping: 100%|█████████████████████████████████████████████████████████████████████████████| 11/11 [00:00<?, ?it/s]\n"
     ]
    },
    {
     "name": "stdout",
     "output_type": "stream",
     "text": [
      "Starting 100 iterations of the GA\n"
     ]
    },
    {
     "name": "stderr",
     "output_type": "stream",
     "text": [
      "Crossover: 100%|████████████████████████████████████████████████████████████████████████████████████| 3/3 [00:00<?, ?it/s]\n",
      "Crossover: 100%|████████████████████████████████████████████████████████████████████████████████████| 3/3 [00:00<?, ?it/s]\n",
      "Crossover: 100%|███████████████████████████████████████████████████████████████████████████| 3/3 [00:00<00:00, 375.34it/s]\n",
      "Crossover: 100%|███████████████████████████████████████████████████████████████████████████| 3/3 [00:00<00:00, 316.15it/s]\n",
      "Crossover: 100%|███████████████████████████████████████████████████████████████████████████| 3/3 [00:00<00:00, 673.13it/s]\n",
      "Crossover: 100%|████████████████████████████████████████████████████████████████████████████████████| 3/3 [00:00<?, ?it/s]\n",
      "Crossover: 100%|███████████████████████████████████████████████████████████████████████████| 3/3 [00:00<00:00, 188.80it/s]\n",
      "Crossover: 100%|████████████████████████████████████████████████████████████████████████████████████| 3/3 [00:00<?, ?it/s]\n",
      "Crossover: 100%|███████████████████████████████████████████████████████████████████████████| 3/3 [00:00<00:00, 375.19it/s]\n",
      "Crossover: 100%|████████████████████████████████████████████████████████████████████████████████████| 3/3 [00:00<?, ?it/s]\n",
      "Crossover: 100%|███████████████████████████████████████████████████████████████████████████| 3/3 [00:00<00:00, 192.04it/s]\n",
      "Crossover: 100%|████████████████████████████████████████████████████████████████████████████████████| 3/3 [00:00<?, ?it/s]\n",
      "Crossover: 100%|████████████████████████████████████████████████████████████████████████████████████| 3/3 [00:00<?, ?it/s]\n",
      "Crossover: 100%|████████████████████████████████████████████████████████████████████████████████████| 3/3 [00:00<?, ?it/s]\n",
      "Crossover: 100%|███████████████████████████████████████████████████████████████████████████| 3/3 [00:00<00:00, 173.79it/s]\n",
      "Crossover: 100%|████████████████████████████████████████████████████████████████████████████████████| 3/3 [00:00<?, ?it/s]\n",
      "Crossover: 100%|████████████████████████████████████████████████████████████████████████████████████| 3/3 [00:00<?, ?it/s]\n",
      "Crossover: 100%|████████████████████████████████████████████████████████████████████████████████████| 3/3 [00:00<?, ?it/s]\n",
      "Crossover: 100%|████████████████████████████████████████████████████████████████████████████████████| 3/3 [00:00<?, ?it/s]\n",
      "Crossover: 100%|████████████████████████████████████████████████████████████████████████████████████| 3/3 [00:00<?, ?it/s]\n",
      "Crossover: 100%|████████████████████████████████████████████████████████████████████████████████████| 3/3 [00:00<?, ?it/s]\n",
      "Crossover: 100%|███████████████████████████████████████████████████████████████████████████| 3/3 [00:00<00:00, 656.73it/s]\n",
      "Crossover: 100%|████████████████████████████████████████████████████████████████████████████████████| 3/3 [00:00<?, ?it/s]\n",
      "Crossover: 100%|████████████████████████████████████████████████████████████████████████████████████| 3/3 [00:00<?, ?it/s]\n",
      "Crossover: 100%|████████████████████████████████████████████████████████████████████████████████████| 3/3 [00:00<?, ?it/s]\n",
      "Crossover: 100%|███████████████████████████████████████████████████████████████████████████| 3/3 [00:00<00:00, 192.06it/s]\n",
      "Crossover: 100%|████████████████████████████████████████████████████████████████████████████████████| 3/3 [00:00<?, ?it/s]\n",
      "Crossover: 100%|████████████████████████████████████████████████████████████████████████████████████| 3/3 [00:00<?, ?it/s]\n",
      "Crossover: 100%|████████████████████████████████████████████████████████████████████████████████████| 3/3 [00:00<?, ?it/s]\n",
      "Crossover: 100%|████████████████████████████████████████████████████████████████████████████████████| 3/3 [00:00<?, ?it/s]\n",
      "Crossover: 100%|████████████████████████████████████████████████████████████████████████████████████| 3/3 [00:00<?, ?it/s]\n",
      "Crossover: 100%|████████████████████████████████████████████████████████████████████████████████████| 3/3 [00:00<?, ?it/s]\n",
      "Crossover: 100%|███████████████████████████████████████████████████████████████████████████| 3/3 [00:00<00:00, 374.74it/s]\n",
      "Crossover: 100%|████████████████████████████████████████████████████████████████████████████████████| 3/3 [00:00<?, ?it/s]\n",
      "Crossover: 100%|████████████████████████████████████████████████████████████████████████████████████| 3/3 [00:00<?, ?it/s]\n",
      "Crossover: 100%|████████████████████████████████████████████████████████████████████████████████████| 3/3 [00:00<?, ?it/s]\n",
      "Crossover: 100%|███████████████████████████████████████████████████████████████████████████| 3/3 [00:00<00:00, 375.40it/s]\n",
      "Crossover: 100%|████████████████████████████████████████████████████████████████████████████████████| 3/3 [00:00<?, ?it/s]\n",
      "Crossover: 100%|███████████████████████████████████████████████████████████████████████████| 3/3 [00:00<00:00, 192.05it/s]\n",
      "Crossover: 100%|████████████████████████████████████████████████████████████████████████████████████| 3/3 [00:00<?, ?it/s]\n",
      "Crossover: 100%|████████████████████████████████████████████████████████████████████████████████████| 3/3 [00:00<?, ?it/s]\n",
      "Crossover: 100%|████████████████████████████████████████████████████████████████████████████████████| 3/3 [00:00<?, ?it/s]\n",
      "Crossover: 100%|████████████████████████████████████████████████████████████████████████████████████| 3/3 [00:00<?, ?it/s]\n",
      "Crossover: 100%|████████████████████████████████████████████████████████████████████████████████████| 3/3 [00:00<?, ?it/s]\n",
      "Crossover: 100%|███████████████████████████████████████████████████████████████████████████| 3/3 [00:00<00:00, 371.98it/s]\n",
      "Crossover: 100%|████████████████████████████████████████████████████████████████████████████████████| 3/3 [00:00<?, ?it/s]\n",
      "Crossover: 100%|███████████████████████████████████████████████████████████████████████████| 3/3 [00:00<00:00, 375.39it/s]\n",
      "Crossover: 100%|████████████████████████████████████████████████████████████████████████████████████| 3/3 [00:00<?, ?it/s]\n",
      "Crossover: 100%|████████████████████████████████████████████████████████████████████████████████████| 3/3 [00:00<?, ?it/s]\n",
      "Crossover: 100%|████████████████████████████████████████████████████████████████████████████████████| 3/3 [00:00<?, ?it/s]\n",
      "Crossover: 100%|████████████████████████████████████████████████████████████████████████████████████| 3/3 [00:00<?, ?it/s]\n",
      "Crossover: 100%|████████████████████████████████████████████████████████████████████████████████████| 3/3 [00:00<?, ?it/s]\n",
      "Crossover: 100%|████████████████████████████████████████████████████████████████████████████████████| 3/3 [00:00<?, ?it/s]\n",
      "Crossover: 100%|████████████████████████████████████████████████████████████████████████████████████| 3/3 [00:00<?, ?it/s]\n",
      "Crossover: 100%|████████████████████████████████████████████████████████████████████████████████████| 3/3 [00:00<?, ?it/s]\n",
      "Crossover: 100%|████████████████████████████████████████████████████████████████████████████████████| 3/3 [00:00<?, ?it/s]\n",
      "Crossover: 100%|████████████████████████████████████████████████████████████████████████████████████| 3/3 [00:00<?, ?it/s]\n",
      "Crossover: 100%|████████████████████████████████████████████████████████████████████████████████████| 3/3 [00:00<?, ?it/s]\n",
      "Crossover: 100%|████████████████████████████████████████████████████████████████████████████████████| 3/3 [00:00<?, ?it/s]\n",
      "Crossover: 100%|███████████████████████████████████████████████████████████████████████████| 3/3 [00:00<00:00, 375.43it/s]\n",
      "Crossover: 100%|████████████████████████████████████████████████████████████████████████████████████| 3/3 [00:00<?, ?it/s]\n",
      "Crossover: 100%|███████████████████████████████████████████████████████████████████████████| 3/3 [00:00<00:00, 375.41it/s]\n",
      "Crossover: 100%|████████████████████████████████████████████████████████████████████████████████████| 3/3 [00:00<?, ?it/s]\n",
      "Crossover: 100%|███████████████████████████████████████████████████████████████████████████| 3/3 [00:00<00:00, 376.91it/s]\n",
      "Crossover: 100%|████████████████████████████████████████████████████████████████████████████████████| 3/3 [00:00<?, ?it/s]\n",
      "Crossover: 100%|███████████████████████████████████████████████████████████████████████████| 3/3 [00:00<00:00, 375.41it/s]\n"
     ]
    },
    {
     "name": "stderr",
     "output_type": "stream",
     "text": [
      "Crossover: 100%|████████████████████████████████████████████████████████████████████████████████████| 3/3 [00:00<?, ?it/s]\n",
      "Crossover: 100%|████████████████████████████████████████████████████████████████████████████████████| 3/3 [00:00<?, ?it/s]\n",
      "Crossover: 100%|████████████████████████████████████████████████████████████████████████████████████| 3/3 [00:00<?, ?it/s]\n",
      "Crossover: 100%|████████████████████████████████████████████████████████████████████████████████████| 3/3 [00:00<?, ?it/s]\n",
      "Crossover: 100%|███████████████████████████████████████████████████████████████████████████| 3/3 [00:00<00:00, 375.12it/s]\n",
      "Crossover: 100%|████████████████████████████████████████████████████████████████████████████████████| 3/3 [00:00<?, ?it/s]\n",
      "Crossover: 100%|████████████████████████████████████████████████████████████████████████████████████| 3/3 [00:00<?, ?it/s]\n",
      "Crossover: 100%|████████████████████████████████████████████████████████████████████████████████████| 3/3 [00:00<?, ?it/s]\n",
      "Crossover: 100%|████████████████████████████████████████████████████████████████████████████████████| 3/3 [00:00<?, ?it/s]\n",
      "Crossover: 100%|████████████████████████████████████████████████████████████████████████████████████| 3/3 [00:00<?, ?it/s]\n",
      "Crossover: 100%|████████████████████████████████████████████████████████████████████████████████████| 3/3 [00:00<?, ?it/s]\n",
      "Crossover: 100%|████████████████████████████████████████████████████████████████████████████████████| 3/3 [00:00<?, ?it/s]\n",
      "Crossover: 100%|████████████████████████████████████████████████████████████████████████████████████| 3/3 [00:00<?, ?it/s]\n",
      "Crossover: 100%|████████████████████████████████████████████████████████████████████████████████████| 3/3 [00:00<?, ?it/s]\n",
      "Crossover: 100%|████████████████████████████████████████████████████████████████████████████████████| 3/3 [00:00<?, ?it/s]\n",
      "Crossover: 100%|███████████████████████████████████████████████████████████████████████████| 3/3 [00:00<00:00, 376.90it/s]\n",
      "Crossover: 100%|███████████████████████████████████████████████████████████████████████████| 3/3 [00:00<00:00, 376.62it/s]\n",
      "Crossover: 100%|███████████████████████████████████████████████████████████████████████████| 3/3 [00:00<00:00, 375.31it/s]\n",
      "Crossover: 100%|████████████████████████████████████████████████████████████████████████████████████| 3/3 [00:00<?, ?it/s]\n",
      "Crossover: 100%|████████████████████████████████████████████████████████████████████████████████████| 3/3 [00:00<?, ?it/s]\n",
      "Crossover: 100%|███████████████████████████████████████████████████████████████████████████| 3/3 [00:00<00:00, 376.68it/s]\n",
      "Crossover: 100%|████████████████████████████████████████████████████████████████████████████████████| 3/3 [00:00<?, ?it/s]\n",
      "Crossover: 100%|███████████████████████████████████████████████████████████████████████████| 3/3 [00:00<00:00, 376.07it/s]\n",
      "Crossover: 100%|████████████████████████████████████████████████████████████████████████████████████| 3/3 [00:00<?, ?it/s]\n",
      "Crossover: 100%|███████████████████████████████████████████████████████████████████████████| 3/3 [00:00<00:00, 376.64it/s]\n",
      "Crossover: 100%|████████████████████████████████████████████████████████████████████████████████████| 3/3 [00:00<?, ?it/s]\n",
      "Crossover: 100%|████████████████████████████████████████████████████████████████████████████████████| 3/3 [00:00<?, ?it/s]\n",
      "Crossover: 100%|███████████████████████████████████████████████████████████████████████████| 3/3 [00:00<00:00, 375.15it/s]\n",
      "Crossover: 100%|████████████████████████████████████████████████████████████████████████████████████| 3/3 [00:00<?, ?it/s]\n",
      "Crossover: 100%|████████████████████████████████████████████████████████████████████████████████████| 3/3 [00:00<?, ?it/s]\n",
      "Crossover: 100%|████████████████████████████████████████████████████████████████████████████████████| 3/3 [00:00<?, ?it/s]\n",
      "Crossover: 100%|████████████████████████████████████████████████████████████████████████████████████| 3/3 [00:00<?, ?it/s]\n",
      "Crossover: 100%|████████████████████████████████████████████████████████████████████████████████████| 3/3 [00:00<?, ?it/s]\n",
      "Crossover: 100%|███████████████████████████████████████████████████████████████████████████| 3/3 [00:00<00:00, 375.31it/s]\n"
     ]
    },
    {
     "name": "stdout",
     "output_type": "stream",
     "text": [
      "-----------------------------------------------------------------\n",
      "Best solution for initial population size of 10000 and number \n",
      "            of runs 100 is \n",
      "                              Route  Cost\n",
      "1  [10, 9, 3, 1, 4, 7, 2, 8, 5, 6]  6543\n",
      "Generated 200(0.006%) of the 3628800 solutions\n",
      "Total distance travelled to cover the final route of \n",
      " Bangalore => Hyderabad => Mumbai => Udaipur => Jaipur => Delhi => Agra => Varanasi => Kolkata => Chennai => Mysore => Bangalore is 6543 KM.\n",
      "             (Generated from initial population size of 10000)\n",
      "-----------------------------------------------------------------\n"
     ]
    }
   ],
   "source": [
    "for i in [10,\n",
    "          100,\n",
    "#           1000\n",
    "         ]:\n",
    "    ga_obj = GeneticAlgoLibrary.OverallGaRun(noverall=i,\n",
    "                                       number_of_cities=11,\n",
    "                                       initial_pop_size=10000,\n",
    "                                       nelite=10,\n",
    "                                       percentage_to_crossover=20,\n",
    "                                       percentage_to_mutate=20,\n",
    "                                       dist_mat=data1)\n",
    "    best_sol = ga_obj.run_overall_ga()"
   ]
  },
  {
   "cell_type": "markdown",
   "metadata": {},
   "source": [
    "## Generate a plot for the best solution"
   ]
  },
  {
   "cell_type": "code",
   "execution_count": 9,
   "metadata": {},
   "outputs": [
    {
     "data": {
      "text/html": [
       "<iframe src=\"about:blank\" width=\"750\" height=\"1000\"style=\"border:none !important;\" data-html=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 onload=\"this.contentDocument.open();this.contentDocument.write(atob(this.getAttribute('data-html')));this.contentDocument.close();\" \"allowfullscreen\" \"webkitallowfullscreen\" \"mozallowfullscreen\"></iframe>"
      ],
      "text/plain": [
       "<folium.folium.Map at 0x15038f79f28>"
      ]
     },
     "execution_count": 9,
     "metadata": {},
     "output_type": "execute_result"
    }
   ],
   "source": [
    "# Adding the starting point i.e bangalore in this case\n",
    "final_route = [0]\n",
    "final_route.extend(best_sol[0][\"Route\"].values[0])\n",
    "final_route.append(0)\n",
    "\n",
    "# creating a lisot with naplot_objectes\n",
    "final_route_naplot_objectes = []\n",
    "for i in final_route:\n",
    "    final_route_naplot_objectes.append(data1.index[i])\n",
    "\n",
    "lat_lon = pd.read_csv(\"./data/city_lat_lon.csv\")\n",
    "\n",
    "\n",
    "fig=Figure(height=1000,width=750)\n",
    "plot_object=folium.Map(location=[12.9716, 77.5946],tiles='cartodbpositron',zoom_start=5)\n",
    "fig.add_child(plot_object)\n",
    "\n",
    "coordinates = []\n",
    "for i in final_route_naplot_objectes:\n",
    "    lat,lon = lat_lon[lat_lon.City == i][\"Lat\"].values[0],lat_lon[lat_lon.City == i][\"Lon\"].values[0]\n",
    "    folio_group_object = folium.FeatureGroup(\"Route\")\n",
    "    coordinates.append([lat,lon])\n",
    "    line_1=folium.vector_layers.PolyLine(coordinates,popup='<b>Best path</b>',tooltip='Route',color='blue',\n",
    "                                         weight=2).add_to(folio_group_object)\n",
    "    line_1.add_to(plot_object)\n",
    "plot_object"
   ]
  },
  {
   "cell_type": "code",
   "execution_count": null,
   "metadata": {},
   "outputs": [],
   "source": []
  }
 ],
 "metadata": {
  "kernelspec": {
   "display_name": "Python 3.7.3 64-bit ('base': conda)",
   "language": "python",
   "name": "python37364bitbaseconda575ea1dc3e254895a21583e6ba8ae572"
  },
  "language_info": {
   "codemirror_mode": {
    "name": "ipython",
    "version": 3
   },
   "file_extension": ".py",
   "mimetype": "text/x-python",
   "name": "python",
   "nbconvert_exporter": "python",
   "pygments_lexer": "ipython3",
   "version": "3.7.3"
  },
  "toc": {
   "base_numbering": 1,
   "nav_menu": {},
   "number_sections": true,
   "sideBar": false,
   "skip_h1_title": true,
   "title_cell": "Table of Contents",
   "title_sidebar": "Contents",
   "toc_cell": true,
   "toc_position": {},
   "toc_section_display": true,
   "toc_window_display": false
  }
 },
 "nbformat": 4,
 "nbformat_minor": 2
}
